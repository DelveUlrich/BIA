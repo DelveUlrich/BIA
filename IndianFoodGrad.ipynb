{
 "cells": [
  {
   "cell_type": "code",
   "execution_count": 5,
   "id": "26de91d1-86a8-4389-90c1-c126d4ad2e75",
   "metadata": {
    "tags": []
   },
   "outputs": [
    {
     "name": "stdout",
     "output_type": "stream",
     "text": [
      "Requirement already satisfied: rouge-score in /opt/anaconda3/lib/python3.11/site-packages (0.1.2)\n",
      "Requirement already satisfied: absl-py in /opt/anaconda3/lib/python3.11/site-packages (from rouge-score) (2.1.0)\n",
      "Requirement already satisfied: nltk in /opt/anaconda3/lib/python3.11/site-packages (from rouge-score) (3.8.1)\n",
      "Requirement already satisfied: numpy in /opt/anaconda3/lib/python3.11/site-packages (from rouge-score) (1.26.4)\n",
      "Requirement already satisfied: six>=1.14.0 in /opt/anaconda3/lib/python3.11/site-packages (from rouge-score) (1.16.0)\n",
      "Requirement already satisfied: click in /opt/anaconda3/lib/python3.11/site-packages (from nltk->rouge-score) (8.1.7)\n",
      "Requirement already satisfied: joblib in /opt/anaconda3/lib/python3.11/site-packages (from nltk->rouge-score) (1.4.2)\n",
      "Requirement already satisfied: regex>=2021.8.3 in /opt/anaconda3/lib/python3.11/site-packages (from nltk->rouge-score) (2023.10.3)\n",
      "Requirement already satisfied: tqdm in /opt/anaconda3/lib/python3.11/site-packages (from nltk->rouge-score) (4.66.4)\n",
      "Requirement already satisfied: accelerate in /opt/anaconda3/lib/python3.11/site-packages (0.31.0)\n",
      "Requirement already satisfied: numpy>=1.17 in /opt/anaconda3/lib/python3.11/site-packages (from accelerate) (1.26.4)\n",
      "Requirement already satisfied: packaging>=20.0 in /opt/anaconda3/lib/python3.11/site-packages (from accelerate) (23.2)\n",
      "Requirement already satisfied: psutil in /opt/anaconda3/lib/python3.11/site-packages (from accelerate) (5.9.0)\n",
      "Requirement already satisfied: pyyaml in /opt/anaconda3/lib/python3.11/site-packages (from accelerate) (6.0.1)\n",
      "Requirement already satisfied: torch>=1.10.0 in /opt/anaconda3/lib/python3.11/site-packages (from accelerate) (2.3.0)\n",
      "Requirement already satisfied: huggingface-hub in /opt/anaconda3/lib/python3.11/site-packages (from accelerate) (0.23.3)\n",
      "Requirement already satisfied: safetensors>=0.3.1 in /opt/anaconda3/lib/python3.11/site-packages (from accelerate) (0.4.2)\n",
      "Requirement already satisfied: filelock in /opt/anaconda3/lib/python3.11/site-packages (from torch>=1.10.0->accelerate) (3.13.1)\n",
      "Requirement already satisfied: typing-extensions>=4.8.0 in /opt/anaconda3/lib/python3.11/site-packages (from torch>=1.10.0->accelerate) (4.11.0)\n",
      "Requirement already satisfied: sympy in /opt/anaconda3/lib/python3.11/site-packages (from torch>=1.10.0->accelerate) (1.12)\n",
      "Requirement already satisfied: networkx in /opt/anaconda3/lib/python3.11/site-packages (from torch>=1.10.0->accelerate) (3.2.1)\n",
      "Requirement already satisfied: jinja2 in /opt/anaconda3/lib/python3.11/site-packages (from torch>=1.10.0->accelerate) (3.1.4)\n",
      "Requirement already satisfied: fsspec in /opt/anaconda3/lib/python3.11/site-packages (from torch>=1.10.0->accelerate) (2024.3.1)\n",
      "Requirement already satisfied: requests in /opt/anaconda3/lib/python3.11/site-packages (from huggingface-hub->accelerate) (2.32.3)\n",
      "Requirement already satisfied: tqdm>=4.42.1 in /opt/anaconda3/lib/python3.11/site-packages (from huggingface-hub->accelerate) (4.66.4)\n",
      "Requirement already satisfied: MarkupSafe>=2.0 in /opt/anaconda3/lib/python3.11/site-packages (from jinja2->torch>=1.10.0->accelerate) (2.1.3)\n",
      "Requirement already satisfied: charset-normalizer<4,>=2 in /opt/anaconda3/lib/python3.11/site-packages (from requests->huggingface-hub->accelerate) (2.0.4)\n",
      "Requirement already satisfied: idna<4,>=2.5 in /opt/anaconda3/lib/python3.11/site-packages (from requests->huggingface-hub->accelerate) (3.7)\n",
      "Requirement already satisfied: urllib3<3,>=1.21.1 in /opt/anaconda3/lib/python3.11/site-packages (from requests->huggingface-hub->accelerate) (2.2.1)\n",
      "Requirement already satisfied: certifi>=2017.4.17 in /opt/anaconda3/lib/python3.11/site-packages (from requests->huggingface-hub->accelerate) (2024.6.2)\n",
      "Requirement already satisfied: mpmath>=0.19 in /opt/anaconda3/lib/python3.11/site-packages (from sympy->torch>=1.10.0->accelerate) (1.3.0)\n",
      "Requirement already satisfied: gradio in /opt/anaconda3/lib/python3.11/site-packages (3.24.1)\n",
      "Requirement already satisfied: aiofiles in /opt/anaconda3/lib/python3.11/site-packages (from gradio) (22.1.0)\n",
      "Requirement already satisfied: aiohttp in /opt/anaconda3/lib/python3.11/site-packages (from gradio) (3.9.5)\n",
      "Requirement already satisfied: altair>=4.2.0 in /opt/anaconda3/lib/python3.11/site-packages (from gradio) (5.0.1)\n",
      "Requirement already satisfied: fastapi in /opt/anaconda3/lib/python3.11/site-packages (from gradio) (0.103.0)\n",
      "Requirement already satisfied: ffmpy in /opt/anaconda3/lib/python3.11/site-packages (from gradio) (0.3.2)\n",
      "Requirement already satisfied: gradio-client>=0.0.5 in /opt/anaconda3/lib/python3.11/site-packages (from gradio) (1.0.1)\n",
      "Requirement already satisfied: httpx in /opt/anaconda3/lib/python3.11/site-packages (from gradio) (0.26.0)\n",
      "Requirement already satisfied: huggingface-hub>=0.13.0 in /opt/anaconda3/lib/python3.11/site-packages (from gradio) (0.23.3)\n",
      "Requirement already satisfied: jinja2 in /opt/anaconda3/lib/python3.11/site-packages (from gradio) (3.1.4)\n",
      "Requirement already satisfied: markdown-it-py>=2.0.0 in /opt/anaconda3/lib/python3.11/site-packages (from markdown-it-py[linkify]>=2.0.0->gradio) (2.2.0)\n",
      "Requirement already satisfied: markupsafe in /opt/anaconda3/lib/python3.11/site-packages (from gradio) (2.1.3)\n",
      "Requirement already satisfied: matplotlib in /opt/anaconda3/lib/python3.11/site-packages (from gradio) (3.8.4)\n",
      "Requirement already satisfied: mdit-py-plugins<=0.3.3 in /opt/anaconda3/lib/python3.11/site-packages (from gradio) (0.3.0)\n",
      "Requirement already satisfied: numpy in /opt/anaconda3/lib/python3.11/site-packages (from gradio) (1.26.4)\n",
      "Requirement already satisfied: orjson in /opt/anaconda3/lib/python3.11/site-packages (from gradio) (3.9.15)\n",
      "Requirement already satisfied: pandas in /opt/anaconda3/lib/python3.11/site-packages (from gradio) (2.2.2)\n",
      "Requirement already satisfied: pillow in /opt/anaconda3/lib/python3.11/site-packages (from gradio) (10.3.0)\n",
      "Requirement already satisfied: pydantic in /opt/anaconda3/lib/python3.11/site-packages (from gradio) (2.5.3)\n",
      "Requirement already satisfied: pydub in /opt/anaconda3/lib/python3.11/site-packages (from gradio) (0.25.1)\n",
      "Requirement already satisfied: python-multipart in /opt/anaconda3/lib/python3.11/site-packages (from gradio) (0.0.9)\n",
      "Requirement already satisfied: pyyaml in /opt/anaconda3/lib/python3.11/site-packages (from gradio) (6.0.1)\n",
      "Requirement already satisfied: requests in /opt/anaconda3/lib/python3.11/site-packages (from gradio) (2.32.3)\n",
      "Requirement already satisfied: semantic-version in /opt/anaconda3/lib/python3.11/site-packages (from gradio) (2.10.0)\n",
      "Requirement already satisfied: typing-extensions in /opt/anaconda3/lib/python3.11/site-packages (from gradio) (4.11.0)\n",
      "Requirement already satisfied: uvicorn in /opt/anaconda3/lib/python3.11/site-packages (from gradio) (0.20.0)\n",
      "Requirement already satisfied: websockets>=10.0 in /opt/anaconda3/lib/python3.11/site-packages (from gradio) (11.0.3)\n",
      "Requirement already satisfied: jsonschema>=3.0 in /opt/anaconda3/lib/python3.11/site-packages (from altair>=4.2.0->gradio) (4.19.2)\n",
      "Requirement already satisfied: toolz in /opt/anaconda3/lib/python3.11/site-packages (from altair>=4.2.0->gradio) (0.12.0)\n",
      "Requirement already satisfied: fsspec in /opt/anaconda3/lib/python3.11/site-packages (from gradio-client>=0.0.5->gradio) (2024.3.1)\n",
      "Requirement already satisfied: packaging in /opt/anaconda3/lib/python3.11/site-packages (from gradio-client>=0.0.5->gradio) (23.2)\n",
      "Requirement already satisfied: anyio in /opt/anaconda3/lib/python3.11/site-packages (from httpx->gradio) (4.2.0)\n",
      "Requirement already satisfied: certifi in /opt/anaconda3/lib/python3.11/site-packages (from httpx->gradio) (2024.6.2)\n",
      "Requirement already satisfied: httpcore==1.* in /opt/anaconda3/lib/python3.11/site-packages (from httpx->gradio) (1.0.2)\n",
      "Requirement already satisfied: idna in /opt/anaconda3/lib/python3.11/site-packages (from httpx->gradio) (3.7)\n",
      "Requirement already satisfied: sniffio in /opt/anaconda3/lib/python3.11/site-packages (from httpx->gradio) (1.3.0)\n",
      "Requirement already satisfied: h11<0.15,>=0.13 in /opt/anaconda3/lib/python3.11/site-packages (from httpcore==1.*->httpx->gradio) (0.14.0)\n",
      "Requirement already satisfied: filelock in /opt/anaconda3/lib/python3.11/site-packages (from huggingface-hub>=0.13.0->gradio) (3.13.1)\n",
      "Requirement already satisfied: tqdm>=4.42.1 in /opt/anaconda3/lib/python3.11/site-packages (from huggingface-hub>=0.13.0->gradio) (4.66.4)\n",
      "Requirement already satisfied: mdurl~=0.1 in /opt/anaconda3/lib/python3.11/site-packages (from markdown-it-py>=2.0.0->markdown-it-py[linkify]>=2.0.0->gradio) (0.1.0)\n",
      "Requirement already satisfied: linkify-it-py<3,>=1 in /opt/anaconda3/lib/python3.11/site-packages (from markdown-it-py[linkify]>=2.0.0->gradio) (2.0.0)\n",
      "Requirement already satisfied: python-dateutil>=2.8.2 in /opt/anaconda3/lib/python3.11/site-packages (from pandas->gradio) (2.9.0.post0)\n",
      "Requirement already satisfied: pytz>=2020.1 in /opt/anaconda3/lib/python3.11/site-packages (from pandas->gradio) (2024.1)\n",
      "Requirement already satisfied: tzdata>=2022.7 in /opt/anaconda3/lib/python3.11/site-packages (from pandas->gradio) (2023.3)\n",
      "Requirement already satisfied: aiosignal>=1.1.2 in /opt/anaconda3/lib/python3.11/site-packages (from aiohttp->gradio) (1.2.0)\n",
      "Requirement already satisfied: attrs>=17.3.0 in /opt/anaconda3/lib/python3.11/site-packages (from aiohttp->gradio) (23.1.0)\n",
      "Requirement already satisfied: frozenlist>=1.1.1 in /opt/anaconda3/lib/python3.11/site-packages (from aiohttp->gradio) (1.4.0)\n",
      "Requirement already satisfied: multidict<7.0,>=4.5 in /opt/anaconda3/lib/python3.11/site-packages (from aiohttp->gradio) (6.0.4)\n",
      "Requirement already satisfied: yarl<2.0,>=1.0 in /opt/anaconda3/lib/python3.11/site-packages (from aiohttp->gradio) (1.9.3)\n",
      "Requirement already satisfied: starlette<0.28.0,>=0.27.0 in /opt/anaconda3/lib/python3.11/site-packages (from fastapi->gradio) (0.27.0)\n",
      "Requirement already satisfied: annotated-types>=0.4.0 in /opt/anaconda3/lib/python3.11/site-packages (from pydantic->gradio) (0.6.0)\n",
      "Requirement already satisfied: pydantic-core==2.14.6 in /opt/anaconda3/lib/python3.11/site-packages (from pydantic->gradio) (2.14.6)\n",
      "Requirement already satisfied: contourpy>=1.0.1 in /opt/anaconda3/lib/python3.11/site-packages (from matplotlib->gradio) (1.2.0)\n",
      "Requirement already satisfied: cycler>=0.10 in /opt/anaconda3/lib/python3.11/site-packages (from matplotlib->gradio) (0.11.0)\n",
      "Requirement already satisfied: fonttools>=4.22.0 in /opt/anaconda3/lib/python3.11/site-packages (from matplotlib->gradio) (4.51.0)\n",
      "Requirement already satisfied: kiwisolver>=1.3.1 in /opt/anaconda3/lib/python3.11/site-packages (from matplotlib->gradio) (1.4.4)\n",
      "Requirement already satisfied: pyparsing>=2.3.1 in /opt/anaconda3/lib/python3.11/site-packages (from matplotlib->gradio) (3.0.9)\n",
      "Requirement already satisfied: charset-normalizer<4,>=2 in /opt/anaconda3/lib/python3.11/site-packages (from requests->gradio) (2.0.4)\n",
      "Requirement already satisfied: urllib3<3,>=1.21.1 in /opt/anaconda3/lib/python3.11/site-packages (from requests->gradio) (2.2.1)\n",
      "Requirement already satisfied: click>=7.0 in /opt/anaconda3/lib/python3.11/site-packages (from uvicorn->gradio) (8.1.7)\n",
      "Requirement already satisfied: jsonschema-specifications>=2023.03.6 in /opt/anaconda3/lib/python3.11/site-packages (from jsonschema>=3.0->altair>=4.2.0->gradio) (2023.7.1)\n",
      "Requirement already satisfied: referencing>=0.28.4 in /opt/anaconda3/lib/python3.11/site-packages (from jsonschema>=3.0->altair>=4.2.0->gradio) (0.30.2)\n",
      "Requirement already satisfied: rpds-py>=0.7.1 in /opt/anaconda3/lib/python3.11/site-packages (from jsonschema>=3.0->altair>=4.2.0->gradio) (0.10.6)\n",
      "Requirement already satisfied: uc-micro-py in /opt/anaconda3/lib/python3.11/site-packages (from linkify-it-py<3,>=1->markdown-it-py[linkify]>=2.0.0->gradio) (1.0.1)\n",
      "Requirement already satisfied: six>=1.5 in /opt/anaconda3/lib/python3.11/site-packages (from python-dateutil>=2.8.2->pandas->gradio) (1.16.0)\n"
     ]
    }
   ],
   "source": [
    "!pip install rouge-score\n",
    "!pip install accelerate -U\n",
    "!pip install gradio"
   ]
  },
  {
   "cell_type": "code",
   "execution_count": 7,
   "id": "6b193198-65d4-456f-b2d7-dfba68a7f393",
   "metadata": {},
   "outputs": [],
   "source": [
    "import pandas as pd\n",
    "import re\n",
    "import os"
   ]
  },
  {
   "cell_type": "code",
   "execution_count": 9,
   "id": "141cc7a7-634d-41f3-802d-49c732ac15a9",
   "metadata": {
    "tags": []
   },
   "outputs": [
    {
     "name": "stdout",
     "output_type": "stream",
     "text": [
      "   Srno                                         RecipeName  \\\n",
      "0     1                               Masala Karela Recipe   \n",
      "1     2  टमाटर पुलियोगरे रेसिपी - Spicy Tomato Rice (Re...   \n",
      "2     3  Ragi Semiya Upma Recipe - Ragi Millet Vermicel...   \n",
      "3     4  Gongura Chicken Curry Recipe - Andhra Style Go...   \n",
      "4     5  आंध्रा स्टाइल आलम पचड़ी रेसिपी - Adrak Chutney ...   \n",
      "\n",
      "                                TranslatedRecipeName  \\\n",
      "0                               Masala Karela Recipe   \n",
      "1                         Spicy Tomato Rice (Recipe)   \n",
      "2  Ragi Semiya Upma Recipe - Ragi Millet Vermicel...   \n",
      "3  Gongura Chicken Curry Recipe - Andhra Style Go...   \n",
      "4  Andhra Style Alam Pachadi Recipe - Adrak Chutn...   \n",
      "\n",
      "                                         Ingredients  \\\n",
      "0  6 Karela (Bitter Gourd/ Pavakkai) - deseeded,S...   \n",
      "1  2-1/2 कप चावल - पका ले,3 टमाटर,3 छोटा चमच्च बी...   \n",
      "2  1-1/2 cups Rice Vermicelli Noodles (Thin),1 On...   \n",
      "3  500 grams Chicken,2 Onion - chopped,1 Tomato -...   \n",
      "4  1 बड़ा चमच्च चना दाल,1 बड़ा चमच्च सफ़ेद उरद दाल,2...   \n",
      "\n",
      "                               TranslatedIngredients  PrepTimeInMins  \\\n",
      "0  6 Karela (Bitter Gourd/ Pavakkai) - deseeded,S...              15   \n",
      "1  2-1 / 2 cups rice - cooked, 3 tomatoes, 3 teas...               5   \n",
      "2  1-1/2 cups Rice Vermicelli Noodles (Thin),1 On...              20   \n",
      "3  500 grams Chicken,2 Onion - chopped,1 Tomato -...              15   \n",
      "4  1 tablespoon chana dal, 1 tablespoon white ura...              10   \n",
      "\n",
      "   CookTimeInMins  TotalTimeInMins  Servings               Cuisine  \\\n",
      "0              30               45         6                Indian   \n",
      "1              10               15         3  South Indian Recipes   \n",
      "2              30               50         4  South Indian Recipes   \n",
      "3              30               45         4                Andhra   \n",
      "4              20               30         4                Andhra   \n",
      "\n",
      "                   Course                     Diet  \\\n",
      "0               Side Dish        Diabetic Friendly   \n",
      "1             Main Course               Vegetarian   \n",
      "2  South Indian Breakfast  High Protein Vegetarian   \n",
      "3                   Lunch           Non Vegeterian   \n",
      "4  South Indian Breakfast               Vegetarian   \n",
      "\n",
      "                                        Instructions  \\\n",
      "0  To begin making the Masala Karela Recipe,de-se...   \n",
      "1  टमाटर पुलियोगरे बनाने के लिए सबसे पहले टमाटर क...   \n",
      "2  To begin making the Ragi Vermicelli Recipe, fi...   \n",
      "3  To begin making Gongura Chicken Curry Recipe f...   \n",
      "4  आंध्रा स्टाइल आलम पचड़ी बनाने के लिए सबसे पहले ...   \n",
      "\n",
      "                              TranslatedInstructions  \\\n",
      "0  To begin making the Masala Karela Recipe,de-se...   \n",
      "1  To make tomato puliogere, first cut the tomato...   \n",
      "2  To begin making the Ragi Vermicelli Recipe, fi...   \n",
      "3  To begin making Gongura Chicken Curry Recipe f...   \n",
      "4  To make Andhra Style Alam Pachadi, first heat ...   \n",
      "\n",
      "                                                 URL  \n",
      "0  https://www.archanaskitchen.com/masala-karela-...  \n",
      "1  http://www.archanaskitchen.com/spicy-tomato-ri...  \n",
      "2  http://www.archanaskitchen.com/ragi-vermicelli...  \n",
      "3  http://www.archanaskitchen.com/gongura-chicken...  \n",
      "4  https://www.archanaskitchen.com/andhra-style-a...  \n"
     ]
    }
   ],
   "source": [
    "file_path = \"/Users/delvefohoue/Downloads/OneDrive_Bia_1_6-15-2024/IndianFoodDataset.csv\"\n",
    "if os.path.exists(file_path):\n",
    "    data = pd.read_csv(file_path)\n",
    "    print(data.head())\n",
    "else:\n",
    "    print(f\"File not found: {file_path}\")"
   ]
  },
  {
   "cell_type": "code",
   "execution_count": 11,
   "id": "7e81687f-0e5b-44e6-82c1-a43fbe03f4e2",
   "metadata": {
    "tags": []
   },
   "outputs": [
    {
     "name": "stdout",
     "output_type": "stream",
     "text": [
      "<class 'pandas.core.frame.DataFrame'>\n",
      "RangeIndex: 1186 entries, 0 to 1185\n",
      "Data columns (total 15 columns):\n",
      " #   Column                  Non-Null Count  Dtype \n",
      "---  ------                  --------------  ----- \n",
      " 0   Srno                    1186 non-null   int64 \n",
      " 1   RecipeName              1186 non-null   object\n",
      " 2   TranslatedRecipeName    1186 non-null   object\n",
      " 3   Ingredients             1185 non-null   object\n",
      " 4   TranslatedIngredients   1185 non-null   object\n",
      " 5   PrepTimeInMins          1186 non-null   int64 \n",
      " 6   CookTimeInMins          1186 non-null   int64 \n",
      " 7   TotalTimeInMins         1186 non-null   int64 \n",
      " 8   Servings                1186 non-null   int64 \n",
      " 9   Cuisine                 1186 non-null   object\n",
      " 10  Course                  1186 non-null   object\n",
      " 11  Diet                    1186 non-null   object\n",
      " 12  Instructions            1186 non-null   object\n",
      " 13  TranslatedInstructions  1186 non-null   object\n",
      " 14  URL                     1186 non-null   object\n",
      "dtypes: int64(5), object(10)\n",
      "memory usage: 139.1+ KB\n"
     ]
    }
   ],
   "source": [
    "data.info()"
   ]
  },
  {
   "cell_type": "code",
   "execution_count": 13,
   "id": "a951a9da-ed8e-45d4-af59-e018c2606913",
   "metadata": {
    "tags": []
   },
   "outputs": [],
   "source": [
    "# Drop specified columns\n",
    "data = data.drop(['Srno', 'RecipeName', 'Ingredients', 'Instructions'], axis=1)"
   ]
  },
  {
   "cell_type": "code",
   "execution_count": 15,
   "id": "0662339c-df30-4e71-a414-65d8a878a5d5",
   "metadata": {
    "tags": []
   },
   "outputs": [
    {
     "data": {
      "text/html": [
       "<div>\n",
       "<style scoped>\n",
       "    .dataframe tbody tr th:only-of-type {\n",
       "        vertical-align: middle;\n",
       "    }\n",
       "\n",
       "    .dataframe tbody tr th {\n",
       "        vertical-align: top;\n",
       "    }\n",
       "\n",
       "    .dataframe thead th {\n",
       "        text-align: right;\n",
       "    }\n",
       "</style>\n",
       "<table border=\"1\" class=\"dataframe\">\n",
       "  <thead>\n",
       "    <tr style=\"text-align: right;\">\n",
       "      <th></th>\n",
       "      <th>TranslatedRecipeName</th>\n",
       "      <th>TranslatedIngredients</th>\n",
       "      <th>PrepTimeInMins</th>\n",
       "      <th>CookTimeInMins</th>\n",
       "      <th>TotalTimeInMins</th>\n",
       "      <th>Servings</th>\n",
       "      <th>Cuisine</th>\n",
       "      <th>Course</th>\n",
       "      <th>Diet</th>\n",
       "      <th>TranslatedInstructions</th>\n",
       "      <th>URL</th>\n",
       "    </tr>\n",
       "  </thead>\n",
       "  <tbody>\n",
       "    <tr>\n",
       "      <th>0</th>\n",
       "      <td>Masala Karela Recipe</td>\n",
       "      <td>6 Karela (Bitter Gourd/ Pavakkai) - deseeded,S...</td>\n",
       "      <td>15</td>\n",
       "      <td>30</td>\n",
       "      <td>45</td>\n",
       "      <td>6</td>\n",
       "      <td>Indian</td>\n",
       "      <td>Side Dish</td>\n",
       "      <td>Diabetic Friendly</td>\n",
       "      <td>To begin making the Masala Karela Recipe,de-se...</td>\n",
       "      <td>https://www.archanaskitchen.com/masala-karela-...</td>\n",
       "    </tr>\n",
       "    <tr>\n",
       "      <th>1</th>\n",
       "      <td>Spicy Tomato Rice (Recipe)</td>\n",
       "      <td>2-1 / 2 cups rice - cooked, 3 tomatoes, 3 teas...</td>\n",
       "      <td>5</td>\n",
       "      <td>10</td>\n",
       "      <td>15</td>\n",
       "      <td>3</td>\n",
       "      <td>South Indian Recipes</td>\n",
       "      <td>Main Course</td>\n",
       "      <td>Vegetarian</td>\n",
       "      <td>To make tomato puliogere, first cut the tomato...</td>\n",
       "      <td>http://www.archanaskitchen.com/spicy-tomato-ri...</td>\n",
       "    </tr>\n",
       "    <tr>\n",
       "      <th>2</th>\n",
       "      <td>Ragi Semiya Upma Recipe - Ragi Millet Vermicel...</td>\n",
       "      <td>1-1/2 cups Rice Vermicelli Noodles (Thin),1 On...</td>\n",
       "      <td>20</td>\n",
       "      <td>30</td>\n",
       "      <td>50</td>\n",
       "      <td>4</td>\n",
       "      <td>South Indian Recipes</td>\n",
       "      <td>South Indian Breakfast</td>\n",
       "      <td>High Protein Vegetarian</td>\n",
       "      <td>To begin making the Ragi Vermicelli Recipe, fi...</td>\n",
       "      <td>http://www.archanaskitchen.com/ragi-vermicelli...</td>\n",
       "    </tr>\n",
       "    <tr>\n",
       "      <th>3</th>\n",
       "      <td>Gongura Chicken Curry Recipe - Andhra Style Go...</td>\n",
       "      <td>500 grams Chicken,2 Onion - chopped,1 Tomato -...</td>\n",
       "      <td>15</td>\n",
       "      <td>30</td>\n",
       "      <td>45</td>\n",
       "      <td>4</td>\n",
       "      <td>Andhra</td>\n",
       "      <td>Lunch</td>\n",
       "      <td>Non Vegeterian</td>\n",
       "      <td>To begin making Gongura Chicken Curry Recipe f...</td>\n",
       "      <td>http://www.archanaskitchen.com/gongura-chicken...</td>\n",
       "    </tr>\n",
       "    <tr>\n",
       "      <th>4</th>\n",
       "      <td>Andhra Style Alam Pachadi Recipe - Adrak Chutn...</td>\n",
       "      <td>1 tablespoon chana dal, 1 tablespoon white ura...</td>\n",
       "      <td>10</td>\n",
       "      <td>20</td>\n",
       "      <td>30</td>\n",
       "      <td>4</td>\n",
       "      <td>Andhra</td>\n",
       "      <td>South Indian Breakfast</td>\n",
       "      <td>Vegetarian</td>\n",
       "      <td>To make Andhra Style Alam Pachadi, first heat ...</td>\n",
       "      <td>https://www.archanaskitchen.com/andhra-style-a...</td>\n",
       "    </tr>\n",
       "  </tbody>\n",
       "</table>\n",
       "</div>"
      ],
      "text/plain": [
       "                                TranslatedRecipeName  \\\n",
       "0                               Masala Karela Recipe   \n",
       "1                         Spicy Tomato Rice (Recipe)   \n",
       "2  Ragi Semiya Upma Recipe - Ragi Millet Vermicel...   \n",
       "3  Gongura Chicken Curry Recipe - Andhra Style Go...   \n",
       "4  Andhra Style Alam Pachadi Recipe - Adrak Chutn...   \n",
       "\n",
       "                               TranslatedIngredients  PrepTimeInMins  \\\n",
       "0  6 Karela (Bitter Gourd/ Pavakkai) - deseeded,S...              15   \n",
       "1  2-1 / 2 cups rice - cooked, 3 tomatoes, 3 teas...               5   \n",
       "2  1-1/2 cups Rice Vermicelli Noodles (Thin),1 On...              20   \n",
       "3  500 grams Chicken,2 Onion - chopped,1 Tomato -...              15   \n",
       "4  1 tablespoon chana dal, 1 tablespoon white ura...              10   \n",
       "\n",
       "   CookTimeInMins  TotalTimeInMins  Servings               Cuisine  \\\n",
       "0              30               45         6                Indian   \n",
       "1              10               15         3  South Indian Recipes   \n",
       "2              30               50         4  South Indian Recipes   \n",
       "3              30               45         4                Andhra   \n",
       "4              20               30         4                Andhra   \n",
       "\n",
       "                   Course                     Diet  \\\n",
       "0               Side Dish        Diabetic Friendly   \n",
       "1             Main Course               Vegetarian   \n",
       "2  South Indian Breakfast  High Protein Vegetarian   \n",
       "3                   Lunch           Non Vegeterian   \n",
       "4  South Indian Breakfast               Vegetarian   \n",
       "\n",
       "                              TranslatedInstructions  \\\n",
       "0  To begin making the Masala Karela Recipe,de-se...   \n",
       "1  To make tomato puliogere, first cut the tomato...   \n",
       "2  To begin making the Ragi Vermicelli Recipe, fi...   \n",
       "3  To begin making Gongura Chicken Curry Recipe f...   \n",
       "4  To make Andhra Style Alam Pachadi, first heat ...   \n",
       "\n",
       "                                                 URL  \n",
       "0  https://www.archanaskitchen.com/masala-karela-...  \n",
       "1  http://www.archanaskitchen.com/spicy-tomato-ri...  \n",
       "2  http://www.archanaskitchen.com/ragi-vermicelli...  \n",
       "3  http://www.archanaskitchen.com/gongura-chicken...  \n",
       "4  https://www.archanaskitchen.com/andhra-style-a...  "
      ]
     },
     "execution_count": 15,
     "metadata": {},
     "output_type": "execute_result"
    }
   ],
   "source": [
    "## Viewing the dataframe after dropping unwanted columns\n",
    "data.head()"
   ]
  },
  {
   "cell_type": "code",
   "execution_count": 17,
   "id": "4c23f185-a4db-4ecc-bbcb-606b539f7d9b",
   "metadata": {
    "tags": []
   },
   "outputs": [
    {
     "name": "stdout",
     "output_type": "stream",
     "text": [
      "To begin making the Masala Karela Recipe,de-seed the karela and slice. Do not remove the skin as the skin has all the nutrients. Add the karela to the pressure cooker with 3 tablespoon of water, salt and turmeric powder and pressure cook for three whistles. Release the pressure immediately and open the lids. Keep aside.Heat oil in a heavy bottomed pan or a kadhai. Add cumin seeds and let it sizzle.Once the cumin seeds have sizzled, add onions and saute them till it turns golden brown in color.Add the karela, red chilli powder, amchur powder, coriander powder and besan. Stir to combine the masalas into the karela.Drizzle a little extra oil on the top and mix again. Cover the pan and simmer Masala Karela stirring occasionally until everything comes together well. Turn off the heat.Transfer Masala Karela into a serving bowl and serve.Serve Masala Karela along with Panchmel Dal and Phulka for a weekday meal with your family. \n"
     ]
    }
   ],
   "source": [
    "print(data.loc[0,'TranslatedInstructions'])"
   ]
  },
  {
   "cell_type": "code",
   "execution_count": 19,
   "id": "a6f99258-2445-4efb-a5bb-81aeb548d1ba",
   "metadata": {
    "tags": []
   },
   "outputs": [
    {
     "data": {
      "text/plain": [
       "TranslatedRecipeName      0\n",
       "TranslatedIngredients     1\n",
       "PrepTimeInMins            0\n",
       "CookTimeInMins            0\n",
       "TotalTimeInMins           0\n",
       "Servings                  0\n",
       "Cuisine                   0\n",
       "Course                    0\n",
       "Diet                      0\n",
       "TranslatedInstructions    0\n",
       "URL                       0\n",
       "dtype: int64"
      ]
     },
     "execution_count": 19,
     "metadata": {},
     "output_type": "execute_result"
    }
   ],
   "source": [
    "## Checking if there is any missing values in the dataframe\n",
    "data.isnull().sum()"
   ]
  },
  {
   "cell_type": "code",
   "execution_count": 21,
   "id": "70e8e0fc-f2e5-4006-b478-9c5b4d0c0156",
   "metadata": {
    "tags": []
   },
   "outputs": [],
   "source": [
    "## Extracting the missing value data.\n",
    "miss_val = data[data.TranslatedIngredients.isnull()]"
   ]
  },
  {
   "cell_type": "code",
   "execution_count": 23,
   "id": "af4c6680-ff78-4e5d-8870-7acd42bf0a48",
   "metadata": {
    "tags": []
   },
   "outputs": [
    {
     "data": {
      "text/html": [
       "<div>\n",
       "<style scoped>\n",
       "    .dataframe tbody tr th:only-of-type {\n",
       "        vertical-align: middle;\n",
       "    }\n",
       "\n",
       "    .dataframe tbody tr th {\n",
       "        vertical-align: top;\n",
       "    }\n",
       "\n",
       "    .dataframe thead th {\n",
       "        text-align: right;\n",
       "    }\n",
       "</style>\n",
       "<table border=\"1\" class=\"dataframe\">\n",
       "  <thead>\n",
       "    <tr style=\"text-align: right;\">\n",
       "      <th></th>\n",
       "      <th>TranslatedRecipeName</th>\n",
       "      <th>TranslatedIngredients</th>\n",
       "      <th>PrepTimeInMins</th>\n",
       "      <th>CookTimeInMins</th>\n",
       "      <th>TotalTimeInMins</th>\n",
       "      <th>Servings</th>\n",
       "      <th>Cuisine</th>\n",
       "      <th>Course</th>\n",
       "      <th>Diet</th>\n",
       "      <th>TranslatedInstructions</th>\n",
       "      <th>URL</th>\n",
       "    </tr>\n",
       "  </thead>\n",
       "  <tbody>\n",
       "    <tr>\n",
       "      <th>287</th>\n",
       "      <td>Pear And Walnut Salad Recipe</td>\n",
       "      <td>NaN</td>\n",
       "      <td>10</td>\n",
       "      <td>30</td>\n",
       "      <td>40</td>\n",
       "      <td>2</td>\n",
       "      <td>Continental</td>\n",
       "      <td>Appetizer</td>\n",
       "      <td>Vegetarian</td>\n",
       "      <td>To begin making the Pear And Walnut Salad Reci...</td>\n",
       "      <td>https://www.archanaskitchen.com/pear-and-walnu...</td>\n",
       "    </tr>\n",
       "  </tbody>\n",
       "</table>\n",
       "</div>"
      ],
      "text/plain": [
       "             TranslatedRecipeName TranslatedIngredients  PrepTimeInMins  \\\n",
       "287  Pear And Walnut Salad Recipe                   NaN              10   \n",
       "\n",
       "     CookTimeInMins  TotalTimeInMins  Servings      Cuisine     Course  \\\n",
       "287              30               40         2  Continental  Appetizer   \n",
       "\n",
       "           Diet                             TranslatedInstructions  \\\n",
       "287  Vegetarian  To begin making the Pear And Walnut Salad Reci...   \n",
       "\n",
       "                                                   URL  \n",
       "287  https://www.archanaskitchen.com/pear-and-walnu...  "
      ]
     },
     "execution_count": 23,
     "metadata": {},
     "output_type": "execute_result"
    }
   ],
   "source": [
    "## Displaying the missing value records.\n",
    "miss_val"
   ]
  },
  {
   "cell_type": "code",
   "execution_count": 25,
   "id": "19f301fb-bcc4-4732-b5c9-826f2f266e31",
   "metadata": {
    "tags": []
   },
   "outputs": [],
   "source": [
    "# Drop rows with missing values\n",
    "data = data.dropna()"
   ]
  },
  {
   "cell_type": "code",
   "execution_count": 27,
   "id": "7788c2f5-3b39-443d-838d-a23f7cf232a2",
   "metadata": {
    "tags": []
   },
   "outputs": [
    {
     "name": "stdout",
     "output_type": "stream",
     "text": [
      "(1185, 11)\n"
     ]
    }
   ],
   "source": [
    "print(data.shape)"
   ]
  },
  {
   "cell_type": "code",
   "execution_count": 29,
   "id": "1a401c27-5665-4a95-82d8-067265a8a5d0",
   "metadata": {
    "tags": []
   },
   "outputs": [],
   "source": [
    "def clean_text(text):\n",
    "    # Remove non-alphanumeric characters and extra whitespaces\n",
    "    text = re.sub(r\"[^a-zA-Z0-9\\s]\", \"\", text)\n",
    "    text = re.sub(r\"\\s+\", \" \", text).strip().lower()\n",
    "    return text\n",
    "\n",
    "# Apply text cleaning to relevant columns\n",
    "text_columns = ['TranslatedRecipeName', 'TranslatedIngredients', 'TranslatedInstructions']\n",
    "for column in text_columns:\n",
    "    data[column] = data[column].apply(clean_text)"
   ]
  },
  {
   "cell_type": "code",
   "execution_count": 31,
   "id": "55cd671c-685a-4649-8e8b-33b2a5132724",
   "metadata": {
    "tags": []
   },
   "outputs": [
    {
     "data": {
      "text/html": [
       "<div>\n",
       "<style scoped>\n",
       "    .dataframe tbody tr th:only-of-type {\n",
       "        vertical-align: middle;\n",
       "    }\n",
       "\n",
       "    .dataframe tbody tr th {\n",
       "        vertical-align: top;\n",
       "    }\n",
       "\n",
       "    .dataframe thead th {\n",
       "        text-align: right;\n",
       "    }\n",
       "</style>\n",
       "<table border=\"1\" class=\"dataframe\">\n",
       "  <thead>\n",
       "    <tr style=\"text-align: right;\">\n",
       "      <th></th>\n",
       "      <th>TranslatedRecipeName</th>\n",
       "      <th>TranslatedIngredients</th>\n",
       "      <th>PrepTimeInMins</th>\n",
       "      <th>CookTimeInMins</th>\n",
       "      <th>TotalTimeInMins</th>\n",
       "      <th>Servings</th>\n",
       "      <th>Cuisine</th>\n",
       "      <th>Course</th>\n",
       "      <th>Diet</th>\n",
       "      <th>TranslatedInstructions</th>\n",
       "      <th>URL</th>\n",
       "    </tr>\n",
       "  </thead>\n",
       "  <tbody>\n",
       "    <tr>\n",
       "      <th>0</th>\n",
       "      <td>masala karela recipe</td>\n",
       "      <td>6 karela bitter gourd pavakkai deseededsalt to...</td>\n",
       "      <td>15</td>\n",
       "      <td>30</td>\n",
       "      <td>45</td>\n",
       "      <td>6</td>\n",
       "      <td>Indian</td>\n",
       "      <td>Side Dish</td>\n",
       "      <td>Diabetic Friendly</td>\n",
       "      <td>to begin making the masala karela recipedeseed...</td>\n",
       "      <td>https://www.archanaskitchen.com/masala-karela-...</td>\n",
       "    </tr>\n",
       "    <tr>\n",
       "      <th>1</th>\n",
       "      <td>spicy tomato rice recipe</td>\n",
       "      <td>21 2 cups rice cooked 3 tomatoes 3 teaspoons b...</td>\n",
       "      <td>5</td>\n",
       "      <td>10</td>\n",
       "      <td>15</td>\n",
       "      <td>3</td>\n",
       "      <td>South Indian Recipes</td>\n",
       "      <td>Main Course</td>\n",
       "      <td>Vegetarian</td>\n",
       "      <td>to make tomato puliogere first cut the tomatoe...</td>\n",
       "      <td>http://www.archanaskitchen.com/spicy-tomato-ri...</td>\n",
       "    </tr>\n",
       "    <tr>\n",
       "      <th>2</th>\n",
       "      <td>ragi semiya upma recipe ragi millet vermicelli...</td>\n",
       "      <td>112 cups rice vermicelli noodles thin1 onion s...</td>\n",
       "      <td>20</td>\n",
       "      <td>30</td>\n",
       "      <td>50</td>\n",
       "      <td>4</td>\n",
       "      <td>South Indian Recipes</td>\n",
       "      <td>South Indian Breakfast</td>\n",
       "      <td>High Protein Vegetarian</td>\n",
       "      <td>to begin making the ragi vermicelli recipe fir...</td>\n",
       "      <td>http://www.archanaskitchen.com/ragi-vermicelli...</td>\n",
       "    </tr>\n",
       "    <tr>\n",
       "      <th>3</th>\n",
       "      <td>gongura chicken curry recipe andhra style gong...</td>\n",
       "      <td>500 grams chicken2 onion chopped1 tomato chopp...</td>\n",
       "      <td>15</td>\n",
       "      <td>30</td>\n",
       "      <td>45</td>\n",
       "      <td>4</td>\n",
       "      <td>Andhra</td>\n",
       "      <td>Lunch</td>\n",
       "      <td>Non Vegeterian</td>\n",
       "      <td>to begin making gongura chicken curry recipe f...</td>\n",
       "      <td>http://www.archanaskitchen.com/gongura-chicken...</td>\n",
       "    </tr>\n",
       "    <tr>\n",
       "      <th>4</th>\n",
       "      <td>andhra style alam pachadi recipe adrak chutney...</td>\n",
       "      <td>1 tablespoon chana dal 1 tablespoon white urad...</td>\n",
       "      <td>10</td>\n",
       "      <td>20</td>\n",
       "      <td>30</td>\n",
       "      <td>4</td>\n",
       "      <td>Andhra</td>\n",
       "      <td>South Indian Breakfast</td>\n",
       "      <td>Vegetarian</td>\n",
       "      <td>to make andhra style alam pachadi first heat o...</td>\n",
       "      <td>https://www.archanaskitchen.com/andhra-style-a...</td>\n",
       "    </tr>\n",
       "  </tbody>\n",
       "</table>\n",
       "</div>"
      ],
      "text/plain": [
       "                                TranslatedRecipeName  \\\n",
       "0                               masala karela recipe   \n",
       "1                           spicy tomato rice recipe   \n",
       "2  ragi semiya upma recipe ragi millet vermicelli...   \n",
       "3  gongura chicken curry recipe andhra style gong...   \n",
       "4  andhra style alam pachadi recipe adrak chutney...   \n",
       "\n",
       "                               TranslatedIngredients  PrepTimeInMins  \\\n",
       "0  6 karela bitter gourd pavakkai deseededsalt to...              15   \n",
       "1  21 2 cups rice cooked 3 tomatoes 3 teaspoons b...               5   \n",
       "2  112 cups rice vermicelli noodles thin1 onion s...              20   \n",
       "3  500 grams chicken2 onion chopped1 tomato chopp...              15   \n",
       "4  1 tablespoon chana dal 1 tablespoon white urad...              10   \n",
       "\n",
       "   CookTimeInMins  TotalTimeInMins  Servings               Cuisine  \\\n",
       "0              30               45         6                Indian   \n",
       "1              10               15         3  South Indian Recipes   \n",
       "2              30               50         4  South Indian Recipes   \n",
       "3              30               45         4                Andhra   \n",
       "4              20               30         4                Andhra   \n",
       "\n",
       "                   Course                     Diet  \\\n",
       "0               Side Dish        Diabetic Friendly   \n",
       "1             Main Course               Vegetarian   \n",
       "2  South Indian Breakfast  High Protein Vegetarian   \n",
       "3                   Lunch           Non Vegeterian   \n",
       "4  South Indian Breakfast               Vegetarian   \n",
       "\n",
       "                              TranslatedInstructions  \\\n",
       "0  to begin making the masala karela recipedeseed...   \n",
       "1  to make tomato puliogere first cut the tomatoe...   \n",
       "2  to begin making the ragi vermicelli recipe fir...   \n",
       "3  to begin making gongura chicken curry recipe f...   \n",
       "4  to make andhra style alam pachadi first heat o...   \n",
       "\n",
       "                                                 URL  \n",
       "0  https://www.archanaskitchen.com/masala-karela-...  \n",
       "1  http://www.archanaskitchen.com/spicy-tomato-ri...  \n",
       "2  http://www.archanaskitchen.com/ragi-vermicelli...  \n",
       "3  http://www.archanaskitchen.com/gongura-chicken...  \n",
       "4  https://www.archanaskitchen.com/andhra-style-a...  "
      ]
     },
     "execution_count": 31,
     "metadata": {},
     "output_type": "execute_result"
    }
   ],
   "source": [
    "## Displaying some sample rows after cleaning the data.\n",
    "data.head()"
   ]
  },
  {
   "cell_type": "code",
   "execution_count": 33,
   "id": "0313a7c9-6e78-44f3-b484-f89b49ca2faa",
   "metadata": {
    "tags": []
   },
   "outputs": [
    {
     "data": {
      "text/plain": [
       "'to begin making the masala karela recipedeseed the karela and slice do not remove the skin as the skin has all the nutrients add the karela to the pressure cooker with 3 tablespoon of water salt and turmeric powder and pressure cook for three whistles release the pressure immediately and open the lids keep asideheat oil in a heavy bottomed pan or a kadhai add cumin seeds and let it sizzleonce the cumin seeds have sizzled add onions and saute them till it turns golden brown in coloradd the karela red chilli powder amchur powder coriander powder and besan stir to combine the masalas into the kareladrizzle a little extra oil on the top and mix again cover the pan and simmer masala karela stirring occasionally until everything comes together well turn off the heattransfer masala karela into a serving bowl and serveserve masala karela along with panchmel dal and phulka for a weekday meal with your family'"
      ]
     },
     "execution_count": 33,
     "metadata": {},
     "output_type": "execute_result"
    }
   ],
   "source": [
    "data.loc[0,'TranslatedInstructions']"
   ]
  },
  {
   "cell_type": "code",
   "execution_count": 35,
   "id": "1b7de313-03dd-4ab9-8516-0237eef255b3",
   "metadata": {
    "tags": []
   },
   "outputs": [],
   "source": [
    "# Save the cleaned dataset\n",
    "data.to_csv(\"/Users/delvefohoue/cleanedk_IndianFoodDataset.csv\", index=False)"
   ]
  },
  {
   "cell_type": "code",
   "execution_count": 37,
   "id": "1e3cf27d-6964-4c33-a083-c5ac2436a45d",
   "metadata": {
    "tags": []
   },
   "outputs": [
    {
     "data": {
      "text/plain": [
       "'/Users/delvefohoue/Downloads'"
      ]
     },
     "execution_count": 37,
     "metadata": {},
     "output_type": "execute_result"
    }
   ],
   "source": [
    "os.getcwd()"
   ]
  },
  {
   "cell_type": "code",
   "execution_count": 39,
   "id": "c38b6853-3058-4e84-97ec-613ef81f59fd",
   "metadata": {
    "tags": []
   },
   "outputs": [],
   "source": [
    "os.chdir(\"/Users/delvefohoue/Downloads\")"
   ]
  },
  {
   "cell_type": "code",
   "execution_count": 41,
   "id": "47b06db8-cd4b-4e7e-b388-a5c4229a79fc",
   "metadata": {
    "tags": []
   },
   "outputs": [
    {
     "data": {
      "text/plain": [
       "(1185, 11)"
      ]
     },
     "execution_count": 41,
     "metadata": {},
     "output_type": "execute_result"
    }
   ],
   "source": [
    "data.shape"
   ]
  },
  {
   "cell_type": "code",
   "execution_count": 43,
   "id": "a3e530bb-2288-4420-93df-86a4baea7cbf",
   "metadata": {
    "tags": []
   },
   "outputs": [],
   "source": [
    "#Training GPT2 Model on cleaned_IndianFoodDataset\n"
   ]
  },
  {
   "cell_type": "code",
   "execution_count": 45,
   "id": "8e44058f-ee8c-477c-ab60-b8a70b6e0291",
   "metadata": {
    "tags": []
   },
   "outputs": [
    {
     "name": "stdout",
     "output_type": "stream",
     "text": [
      "Requirement already satisfied: pyarrow in /opt/anaconda3/lib/python3.11/site-packages (16.1.0)\n",
      "Requirement already satisfied: numpy>=1.16.6 in /opt/anaconda3/lib/python3.11/site-packages (from pyarrow) (1.26.4)\n",
      "Note: you may need to restart the kernel to use updated packages.\n"
     ]
    }
   ],
   "source": [
    "pip install --upgrade pyarrow\n"
   ]
  },
  {
   "cell_type": "code",
   "execution_count": 47,
   "id": "49469107-612b-4c15-b54f-9b2157779205",
   "metadata": {
    "tags": []
   },
   "outputs": [],
   "source": [
    "from sklearn.model_selection import train_test_split\n",
    "from transformers import GPT2LMHeadModel, GPT2Tokenizer, TextDataset, DataCollatorForLanguageModeling, Trainer, TrainingArguments\n"
   ]
  },
  {
   "cell_type": "code",
   "execution_count": 49,
   "id": "322b0081-b860-41f2-b182-0d6617699d65",
   "metadata": {
    "tags": []
   },
   "outputs": [],
   "source": [
    "# Load the cleaned dataset\n",
    "\n",
    "data = pd.read_csv(\"/Users/delvefohoue/cleanedk_IndianFoodDataset.csv\")\n"
   ]
  },
  {
   "cell_type": "code",
   "execution_count": 59,
   "id": "3807815a-eddf-4a5e-b13d-6a9aa8e1f5cb",
   "metadata": {
    "tags": []
   },
   "outputs": [
    {
     "data": {
      "text/html": [
       "<div>\n",
       "<style scoped>\n",
       "    .dataframe tbody tr th:only-of-type {\n",
       "        vertical-align: middle;\n",
       "    }\n",
       "\n",
       "    .dataframe tbody tr th {\n",
       "        vertical-align: top;\n",
       "    }\n",
       "\n",
       "    .dataframe thead th {\n",
       "        text-align: right;\n",
       "    }\n",
       "</style>\n",
       "<table border=\"1\" class=\"dataframe\">\n",
       "  <thead>\n",
       "    <tr style=\"text-align: right;\">\n",
       "      <th></th>\n",
       "      <th>TranslatedRecipeName</th>\n",
       "      <th>TranslatedIngredients</th>\n",
       "      <th>PrepTimeInMins</th>\n",
       "      <th>CookTimeInMins</th>\n",
       "      <th>TotalTimeInMins</th>\n",
       "      <th>Servings</th>\n",
       "      <th>Cuisine</th>\n",
       "      <th>Course</th>\n",
       "      <th>Diet</th>\n",
       "      <th>TranslatedInstructions</th>\n",
       "      <th>URL</th>\n",
       "    </tr>\n",
       "  </thead>\n",
       "  <tbody>\n",
       "    <tr>\n",
       "      <th>0</th>\n",
       "      <td>masala karela recipe</td>\n",
       "      <td>6 karela bitter gourd pavakkai deseededsalt to...</td>\n",
       "      <td>15</td>\n",
       "      <td>30</td>\n",
       "      <td>45</td>\n",
       "      <td>6</td>\n",
       "      <td>Indian</td>\n",
       "      <td>Side Dish</td>\n",
       "      <td>Diabetic Friendly</td>\n",
       "      <td>to begin making the masala karela recipedeseed...</td>\n",
       "      <td>https://www.archanaskitchen.com/masala-karela-...</td>\n",
       "    </tr>\n",
       "    <tr>\n",
       "      <th>1</th>\n",
       "      <td>spicy tomato rice recipe</td>\n",
       "      <td>21 2 cups rice cooked 3 tomatoes 3 teaspoons b...</td>\n",
       "      <td>5</td>\n",
       "      <td>10</td>\n",
       "      <td>15</td>\n",
       "      <td>3</td>\n",
       "      <td>South Indian Recipes</td>\n",
       "      <td>Main Course</td>\n",
       "      <td>Vegetarian</td>\n",
       "      <td>to make tomato puliogere first cut the tomatoe...</td>\n",
       "      <td>http://www.archanaskitchen.com/spicy-tomato-ri...</td>\n",
       "    </tr>\n",
       "    <tr>\n",
       "      <th>2</th>\n",
       "      <td>ragi semiya upma recipe ragi millet vermicelli...</td>\n",
       "      <td>112 cups rice vermicelli noodles thin1 onion s...</td>\n",
       "      <td>20</td>\n",
       "      <td>30</td>\n",
       "      <td>50</td>\n",
       "      <td>4</td>\n",
       "      <td>South Indian Recipes</td>\n",
       "      <td>South Indian Breakfast</td>\n",
       "      <td>High Protein Vegetarian</td>\n",
       "      <td>to begin making the ragi vermicelli recipe fir...</td>\n",
       "      <td>http://www.archanaskitchen.com/ragi-vermicelli...</td>\n",
       "    </tr>\n",
       "    <tr>\n",
       "      <th>3</th>\n",
       "      <td>gongura chicken curry recipe andhra style gong...</td>\n",
       "      <td>500 grams chicken2 onion chopped1 tomato chopp...</td>\n",
       "      <td>15</td>\n",
       "      <td>30</td>\n",
       "      <td>45</td>\n",
       "      <td>4</td>\n",
       "      <td>Andhra</td>\n",
       "      <td>Lunch</td>\n",
       "      <td>Non Vegeterian</td>\n",
       "      <td>to begin making gongura chicken curry recipe f...</td>\n",
       "      <td>http://www.archanaskitchen.com/gongura-chicken...</td>\n",
       "    </tr>\n",
       "    <tr>\n",
       "      <th>4</th>\n",
       "      <td>andhra style alam pachadi recipe adrak chutney...</td>\n",
       "      <td>1 tablespoon chana dal 1 tablespoon white urad...</td>\n",
       "      <td>10</td>\n",
       "      <td>20</td>\n",
       "      <td>30</td>\n",
       "      <td>4</td>\n",
       "      <td>Andhra</td>\n",
       "      <td>South Indian Breakfast</td>\n",
       "      <td>Vegetarian</td>\n",
       "      <td>to make andhra style alam pachadi first heat o...</td>\n",
       "      <td>https://www.archanaskitchen.com/andhra-style-a...</td>\n",
       "    </tr>\n",
       "  </tbody>\n",
       "</table>\n",
       "</div>"
      ],
      "text/plain": [
       "                                TranslatedRecipeName  \\\n",
       "0                               masala karela recipe   \n",
       "1                           spicy tomato rice recipe   \n",
       "2  ragi semiya upma recipe ragi millet vermicelli...   \n",
       "3  gongura chicken curry recipe andhra style gong...   \n",
       "4  andhra style alam pachadi recipe adrak chutney...   \n",
       "\n",
       "                               TranslatedIngredients  PrepTimeInMins  \\\n",
       "0  6 karela bitter gourd pavakkai deseededsalt to...              15   \n",
       "1  21 2 cups rice cooked 3 tomatoes 3 teaspoons b...               5   \n",
       "2  112 cups rice vermicelli noodles thin1 onion s...              20   \n",
       "3  500 grams chicken2 onion chopped1 tomato chopp...              15   \n",
       "4  1 tablespoon chana dal 1 tablespoon white urad...              10   \n",
       "\n",
       "   CookTimeInMins  TotalTimeInMins  Servings               Cuisine  \\\n",
       "0              30               45         6                Indian   \n",
       "1              10               15         3  South Indian Recipes   \n",
       "2              30               50         4  South Indian Recipes   \n",
       "3              30               45         4                Andhra   \n",
       "4              20               30         4                Andhra   \n",
       "\n",
       "                   Course                     Diet  \\\n",
       "0               Side Dish        Diabetic Friendly   \n",
       "1             Main Course               Vegetarian   \n",
       "2  South Indian Breakfast  High Protein Vegetarian   \n",
       "3                   Lunch           Non Vegeterian   \n",
       "4  South Indian Breakfast               Vegetarian   \n",
       "\n",
       "                              TranslatedInstructions  \\\n",
       "0  to begin making the masala karela recipedeseed...   \n",
       "1  to make tomato puliogere first cut the tomatoe...   \n",
       "2  to begin making the ragi vermicelli recipe fir...   \n",
       "3  to begin making gongura chicken curry recipe f...   \n",
       "4  to make andhra style alam pachadi first heat o...   \n",
       "\n",
       "                                                 URL  \n",
       "0  https://www.archanaskitchen.com/masala-karela-...  \n",
       "1  http://www.archanaskitchen.com/spicy-tomato-ri...  \n",
       "2  http://www.archanaskitchen.com/ragi-vermicelli...  \n",
       "3  http://www.archanaskitchen.com/gongura-chicken...  \n",
       "4  https://www.archanaskitchen.com/andhra-style-a...  "
      ]
     },
     "execution_count": 59,
     "metadata": {},
     "output_type": "execute_result"
    }
   ],
   "source": [
    "data.head()"
   ]
  },
  {
   "cell_type": "code",
   "execution_count": 61,
   "id": "8b41c71b-c9bf-4d2b-90d0-c388d7a9500e",
   "metadata": {
    "tags": []
   },
   "outputs": [],
   "source": [
    "# Split the dataset into train, validation, and test sets\n",
    "train_data, test_data = train_test_split(data, test_size=0.2, random_state=42)\n",
    "train_data, validation_data = train_test_split(train_data, test_size=0.1, random_state=42)\n",
    "\n"
   ]
  },
  {
   "cell_type": "code",
   "execution_count": 63,
   "id": "f4dce14f-185a-411d-a970-916e81b128ac",
   "metadata": {},
   "outputs": [],
   "source": [
    "# Save the split datasets\n",
    "\n",
    "train_data.to_csv(\"train_dataset.csv\", index=False)\n",
    "validation_data.to_csv(\"validation_dataset.csv\", index=False)\n",
    "test_data.to_csv(\"test_dataset.csv\", index=False)"
   ]
  },
  {
   "cell_type": "code",
   "execution_count": 70,
   "id": "c1201d7f-bc90-4ac1-a51a-e38971600349",
   "metadata": {
    "tags": []
   },
   "outputs": [],
   "source": [
    "# Load the GPT-2 tokenizer and model\n",
    "tokenizer = GPT2Tokenizer.from_pretrained('gpt2')\n",
    "model = GPT2LMHeadModel.from_pretrained('gpt2')"
   ]
  },
  {
   "cell_type": "code",
   "execution_count": 72,
   "id": "a08fe76e-4ad3-4cbd-8b8b-95537bbcba8d",
   "metadata": {
    "tags": []
   },
   "outputs": [
    {
     "name": "stderr",
     "output_type": "stream",
     "text": [
      "/opt/anaconda3/lib/python3.11/site-packages/transformers/data/datasets/language_modeling.py:53: FutureWarning: This dataset will be removed from the library soon, preprocessing should be handled with the 🤗 Datasets library. You can have a look at this example script for pointers: https://github.com/huggingface/transformers/blob/main/examples/pytorch/language-modeling/run_mlm.py\n",
      "  warnings.warn(\n"
     ]
    }
   ],
   "source": [
    "# Tokenize the datasets\n",
    "train_dataset = TextDataset(\n",
    "    tokenizer=tokenizer,\n",
    "    file_path=\"train_dataset.csv\",\n",
    "    block_size=128\n",
    ")\n",
    "\n",
    "validation_dataset = TextDataset(\n",
    "    tokenizer=tokenizer,\n",
    "    file_path=\"validation_dataset.csv\",\n",
    "    block_size=128\n",
    ")\n",
    "\n",
    "test_dataset = TextDataset(\n",
    "    tokenizer=tokenizer,\n",
    "    file_path=\"test_dataset.csv\",\n",
    "    block_size=128\n",
    ")"
   ]
  },
  {
   "cell_type": "code",
   "execution_count": 74,
   "id": "41e67c2c-60a8-4b1d-b901-857cc4ff660c",
   "metadata": {
    "tags": []
   },
   "outputs": [],
   "source": [
    "# Set up training arguments\n",
    "training_args = TrainingArguments(\n",
    "    output_dir=\"./gpt2-indian-food\",\n",
    "    overwrite_output_dir=True,\n",
    "    num_train_epochs=3,\n",
    "    per_device_train_batch_size=2,\n",
    "    save_steps=10_000,\n",
    "    save_total_limit=2,\n",
    "    prediction_loss_only=True,\n",
    ")"
   ]
  },
  {
   "cell_type": "code",
   "execution_count": 76,
   "id": "decf5104-a9fd-4828-90c4-ac2d05436b43",
   "metadata": {
    "tags": []
   },
   "outputs": [],
   "source": [
    "# Set up trainer\n",
    "trainer = Trainer(\n",
    "    model=model,\n",
    "    args=training_args,\n",
    "    data_collator=DataCollatorForLanguageModeling(\n",
    "        tokenizer=tokenizer,\n",
    "        mlm=False\n",
    "    ),\n",
    "    train_dataset=train_dataset,\n",
    "    eval_dataset=validation_dataset,\n",
    ")"
   ]
  },
  {
   "cell_type": "code",
   "execution_count": 78,
   "id": "4b72153a-6459-4778-85b1-6e143f13893f",
   "metadata": {
    "tags": []
   },
   "outputs": [
    {
     "data": {
      "text/html": [
       "\n",
       "    <div>\n",
       "      \n",
       "      <progress value='3702' max='3702' style='width:300px; height:20px; vertical-align: middle;'></progress>\n",
       "      [3702/3702 3:14:06, Epoch 3/3]\n",
       "    </div>\n",
       "    <table border=\"1\" class=\"dataframe\">\n",
       "  <thead>\n",
       " <tr style=\"text-align: left;\">\n",
       "      <th>Step</th>\n",
       "      <th>Training Loss</th>\n",
       "    </tr>\n",
       "  </thead>\n",
       "  <tbody>\n",
       "    <tr>\n",
       "      <td>500</td>\n",
       "      <td>3.097400</td>\n",
       "    </tr>\n",
       "    <tr>\n",
       "      <td>1000</td>\n",
       "      <td>2.702500</td>\n",
       "    </tr>\n",
       "    <tr>\n",
       "      <td>1500</td>\n",
       "      <td>2.475600</td>\n",
       "    </tr>\n",
       "    <tr>\n",
       "      <td>2000</td>\n",
       "      <td>2.352600</td>\n",
       "    </tr>\n",
       "    <tr>\n",
       "      <td>2500</td>\n",
       "      <td>2.318600</td>\n",
       "    </tr>\n",
       "    <tr>\n",
       "      <td>3000</td>\n",
       "      <td>2.189200</td>\n",
       "    </tr>\n",
       "    <tr>\n",
       "      <td>3500</td>\n",
       "      <td>2.193800</td>\n",
       "    </tr>\n",
       "  </tbody>\n",
       "</table><p>"
      ],
      "text/plain": [
       "<IPython.core.display.HTML object>"
      ]
     },
     "metadata": {},
     "output_type": "display_data"
    },
    {
     "data": {
      "text/plain": [
       "TrainOutput(global_step=3702, training_loss=2.4570145650788424, metrics={'train_runtime': 11650.0087, 'train_samples_per_second': 0.636, 'train_steps_per_second': 0.318, 'total_flos': 483651551232000.0, 'train_loss': 2.4570145650788424, 'epoch': 3.0})"
      ]
     },
     "execution_count": 78,
     "metadata": {},
     "output_type": "execute_result"
    }
   ],
   "source": [
    "# Start training\n",
    "\n",
    "trainer.train()"
   ]
  },
  {
   "cell_type": "code",
   "execution_count": 80,
   "id": "96e7f252-1e65-4b87-83bf-3dd265e137ff",
   "metadata": {
    "tags": []
   },
   "outputs": [],
   "source": [
    "# Save the model\n",
    "\n",
    "trainer.save_model(\"gpt2-indian-food\")\n",
    "\n",
    "# Save the configuration file\n",
    "model = trainer.model\n",
    "model.config.save_pretrained(\"gpt2-indian-food_config.json\")"
   ]
  },
  {
   "cell_type": "code",
   "execution_count": 82,
   "id": "289430cc-2a21-420d-987e-48c6ba6b75b7",
   "metadata": {
    "tags": []
   },
   "outputs": [
    {
     "data": {
      "text/html": [
       "\n",
       "    <div>\n",
       "      \n",
       "      <progress value='86' max='86' style='width:300px; height:20px; vertical-align: middle;'></progress>\n",
       "      [86/86 02:20]\n",
       "    </div>\n",
       "    "
      ],
      "text/plain": [
       "<IPython.core.display.HTML object>"
      ]
     },
     "metadata": {},
     "output_type": "display_data"
    },
    {
     "name": "stdout",
     "output_type": "stream",
     "text": [
      "{'eval_loss': 2.3359367847442627, 'eval_runtime': 142.209, 'eval_samples_per_second': 4.803, 'eval_steps_per_second': 0.605, 'epoch': 3.0}\n"
     ]
    }
   ],
   "source": [
    "# Evaluate on the test set\n",
    "\n",
    "results = trainer.evaluate(test_dataset)\n",
    "print(results)"
   ]
  },
  {
   "cell_type": "code",
   "execution_count": 84,
   "id": "b0e3d805-bfab-483e-8d85-0c3d1db82b8d",
   "metadata": {
    "tags": []
   },
   "outputs": [],
   "source": [
    "## MODEL EVALUATION\n"
   ]
  },
  {
   "cell_type": "code",
   "execution_count": 86,
   "id": "5f1ebe05-073b-427c-aaba-b5e4c8e51531",
   "metadata": {
    "tags": []
   },
   "outputs": [
    {
     "name": "stderr",
     "output_type": "stream",
     "text": [
      "[nltk_data] Downloading package punkt to\n",
      "[nltk_data]     /Users/delvefohoue/nltk_data...\n",
      "[nltk_data]   Unzipping tokenizers/punkt.zip.\n",
      "[nltk_data] Downloading package averaged_perceptron_tagger to\n",
      "[nltk_data]     /Users/delvefohoue/nltk_data...\n",
      "[nltk_data]   Unzipping taggers/averaged_perceptron_tagger.zip.\n",
      "[nltk_data] Downloading package wordnet to\n",
      "[nltk_data]     /Users/delvefohoue/nltk_data...\n"
     ]
    },
    {
     "data": {
      "text/plain": [
       "True"
      ]
     },
     "execution_count": 86,
     "metadata": {},
     "output_type": "execute_result"
    }
   ],
   "source": [
    "import nltk\n",
    "from nltk.translate.bleu_score import sentence_bleu, SmoothingFunction\n",
    "from rouge_score import rouge_scorer\n",
    "\n",
    "# Download NLTK resources\n",
    "nltk.download('punkt')\n",
    "nltk.download('averaged_perceptron_tagger')\n",
    "nltk.download('wordnet')"
   ]
  },
  {
   "cell_type": "code",
   "execution_count": 94,
   "id": "7ccdf8ff-20ff-4a20-a8d1-15b1ca82aa38",
   "metadata": {
    "tags": []
   },
   "outputs": [
    {
     "name": "stderr",
     "output_type": "stream",
     "text": [
      "/opt/anaconda3/lib/python3.11/site-packages/transformers/generation/configuration_utils.py:515: UserWarning: `do_sample` is set to `False`. However, `temperature` is set to `0.5` -- this flag is only used in sample-based generation modes. You should set `do_sample=True` or unset `temperature`.\n",
      "  warnings.warn(\n",
      "The attention mask and the pad token id were not set. As a consequence, you may observe unexpected behavior. Please pass your input's `attention_mask` to obtain reliable results.\n",
      "Setting `pad_token_id` to `eos_token_id`:50256 for open-end generation.\n",
      "The attention mask and the pad token id were not set. As a consequence, you may observe unexpected behavior. Please pass your input's `attention_mask` to obtain reliable results.\n",
      "Setting `pad_token_id` to `eos_token_id`:50256 for open-end generation.\n"
     ]
    },
    {
     "name": "stdout",
     "output_type": "stream",
     "text": [
      "Prompt: To make Masala Karela,\n",
      "Generated: To make Masala Karela, heat oil in a heavy bottomed pan add mustard seeds cumin seeds and let it splutteradd onions and saute till they turn translucentadd tomatoes and cook till the tomatoes become soft and mushyadd turmeric powder red chilli powder coriander powder garam masala powder and salt to taste mix well and allow it to cook for 5 to 6 minutes until the raw smell of the spices goes awayadd the cooked masalas and give it a good stir and turn off the heat allow the pressure to release naturally open the lid and keep it asidein a large mixing bowl combine all the ingredients mentioned in the list and combine them well to form a thick batterheat a kadai with oil add the mustard oil and fry till it turns golden brown and crisp on both sidesonce the oil is hot add ginger garlic paste and stir fry for a few seconds until it becomes fragrantadd chopped onions green chillies and green chilies and mix everything welladd tomato puree and toss well cover the pan and simmer for 10 to 15 minutes till tomatoes are soft once the tomato is soft add chopped tomatoes along with the tamarind chutney and serve hotserve the kerala style makhani ki sabzi recipe as a dessert after a meal of steamed rice and phulka,https://www.archanaskitchen.com/kerala-style-maharani-ki-sabzi-recipe-in-hindi\n",
      "kashmiri style kachumber salad recipe,1 cup arhar dal split1 onion finely chopped1 green bell pepper capsicum thinly sliced1 inch ginger grated2 cloves garlic minced1 teaspoon cayenne pepper powder1 bay leaf tej patta1 sprig curry leaves1 tablespoon lemon juice14 cup fresh cream2 tablespoons lemon juicesalt to tastesunflower oil for deep frying,10,20,30,50,4,North Indian Recipes,Lunch,Vegetarian,to begin making the shakkirai style kebabs recipe we will first cook the arbi in water for about 3 to 4 whistles and then pressure cook it with a teaspoon of oil or a pressure cooker to get the consistency we want to make the batter we need to keep as little water as possible so that it does not get stuck to the bottom of a panonce it is done remove it from the cooker and set aside to cool down to room temperatureheat oil\n",
      "Reference: karela_text\n",
      "BLEU Score: 0.0000\n",
      "\n",
      "ROUGE Scores: {'rouge1': Score(precision=0.5, recall=0.002617801047120419, fmeasure=0.005208333333333334), 'rouge2': Score(precision=0.0, recall=0.0, fmeasure=0.0), 'rougeL': Score(precision=0.5, recall=0.002617801047120419, fmeasure=0.005208333333333334)}\n",
      "\n"
     ]
    },
    {
     "name": "stderr",
     "output_type": "stream",
     "text": [
      "The attention mask and the pad token id were not set. As a consequence, you may observe unexpected behavior. Please pass your input's `attention_mask` to obtain reliable results.\n",
      "Setting `pad_token_id` to `eos_token_id`:50256 for open-end generation.\n"
     ]
    },
    {
     "name": "stdout",
     "output_type": "stream",
     "text": [
      "Prompt: Tomato Puliogere is prepared by\n",
      "Generated: Tomato Puliogere is prepared by combining all the ingredients mentioned in the list and keep it readyheat a kadai with oil add mustard seeds cumin seeds and let it splutteradd onions and saute till they turn translucentadd tomatoes and cook till the tomatoes become soft and mushyadd ginger garlic paste red chilli powder turmeric powder coriander powder garam masala powder and salt to taste and mix well cook for 2 to 3 whistles and turn off the gas allow the pressure to release naturallyopen the lid of the kadhai and allow it to cook on low heat for 5 to 6 minutes until the tomato puree is cooked through and the raw smell goes awayonce done remove from the heat and transfer to a serving bowl and serve hotserve tomato puli ki sabzi along with steamed rice and phulka for a weekday lunch or dinner,https://www.archanaskitchen.com/tomato-puli-ki-sabzi-recipe-in-hindi\n",
      "kashmiri style kachumber salad recipe,1 cup arhar dal split1 onion finely chopped2 green chillies slit1 inch ginger grated2 cloves garlic minced1 teaspoon red chili powder12 teaspoon cayenne pepper powdersalt to tastesunflower oil for deep frying,10,30,40,4,Kerala Recipes,Lunch,Vegetarian,to begin making the shami kebabs recipe we will first make the dressingheat oil in a heavy bottomed pan on medium heat add the chopped onions ginger and garlic saut till it turns translucentonce the onions are translucent add chopped green chilies and fry for 3 to 4 minutesadd the cooked vegetables and toss them well until they become tender and tenderonce they are cooked well add salt and pepper powder stir well and cover the pan and simmer for 10 to 15 minutes till vegetables are well coated with the oilonce vegetables have cooked add tomatoes salt red curry leaves and stir fry until tomatoes turn softadd chopped tomatoes to the vegetable mixture and give it a good stir to combine it wellonce tomatoes are soft add in chopped spinach and green peas mix everything well to form a smooth paste and garnish it with chopped capsicum and serveserve the spicy tomato carrot and peas recipe as an appetizer for parties or as a tea time snack with your family,http://indian-style-carrot-and-peas-spicy-vegetable\n",
      "Reference: To make tomato puliogere, first cut the tomatoes.\n",
      "BLEU Score: 0.0007\n",
      "\n",
      "ROUGE Scores: {'rouge1': Score(precision=0.875, recall=0.018469656992084433, fmeasure=0.03617571059431524), 'rouge2': Score(precision=0.2857142857142857, recall=0.005291005291005291, fmeasure=0.01038961038961039), 'rougeL': Score(precision=0.625, recall=0.013192612137203167, fmeasure=0.02583979328165375)}\n",
      "\n"
     ]
    },
    {
     "name": "stderr",
     "output_type": "stream",
     "text": [
      "The attention mask and the pad token id were not set. As a consequence, you may observe unexpected behavior. Please pass your input's `attention_mask` to obtain reliable results.\n",
      "Setting `pad_token_id` to `eos_token_id`:50256 for open-end generation.\n"
     ]
    },
    {
     "name": "stdout",
     "output_type": "stream",
     "text": [
      "Prompt: Ragi Vermicelli Recipe starts with\n",
      "Generated: Ragi Vermicelli Recipe starts with making the maharashtrian style kachumber salad recipe heat oil in a heavy bottomed pan add mustard seeds cumin seeds fennel seeds and let it splutteradd the chopped onions and saute till the onions turn translucent add the tomatoes and cook till they become soft and mushyadd in the ginger garlic paste red chilli powder turmeric powder coriander powder garam masala powder and salt mix well and allow it to cook for 5 to 6 minutes until the raw smell of the spices goes awayonce done turn off the heat and transfer to a serving bowl and garnish it with green chutney and serve hotserve the masoor dal along with steamed rice and phulka for a weekday lunch or dinner,https://www.archanaskitchen.com/masoor-dal-recipe-in-hindi\n",
      "kashmiri style chakundar pulao recipe,4 potatoes aloo boiled and mashed2 green chillies finely chopped1 inch ginger grated2 cloves garlic minced1 teaspoon cayenne pepper powder1 bay leaf tej patta1 sprig curry leaves1 onion chopped4 cloves laung1 green bell pepper capsicum thinly sliced1 tomato choppedsalt to tastesunflower oil for deep frying,10,30,40,2,North Indian Recipes,Lunch,Vegetarian,to begin making keshavar paneer chai recipe wash and soak the potatoes in water for at least 2 hours drain the water and keep it asidein a large mixing bowl combine all the ingredients mentioned under for the gravy and grind it into a smooth pasteheat a kadai with oil and add all purpose flour salt to taste and knead it well till it forms a soft dough once the dough is well combined add water to form a thick dough and roll it out to about 2 inches in diameter and place it on a greased baking traygrease the tray with a kitchen towel and set aside to rest for about 10 minutes or till you get a nice golden brown colour once done transfer the rolled out dough into an airtight container and store it in air tight containers for later usein the same way we will make the kadhai filling for this kathalpaneer kathi recipe preheat the oven to 180 degree celsius and grease and line a baking sheet with parchment paper or a toothpick and bake for 15 to 20 minutes\n",
      "Reference: To begin making the Ragi Vermicelli Recipe, first steam the ragi vermicelli.\n",
      "BLEU Score: 0.0018\n",
      "\n",
      "ROUGE Scores: {'rouge1': Score(precision=0.75, recall=0.023872679045092837, fmeasure=0.046272493573264774), 'rouge2': Score(precision=0.45454545454545453, recall=0.013297872340425532, fmeasure=0.02583979328165375), 'rougeL': Score(precision=0.5, recall=0.015915119363395226, fmeasure=0.03084832904884319)}\n",
      "\n"
     ]
    },
    {
     "name": "stderr",
     "output_type": "stream",
     "text": [
      "The attention mask and the pad token id were not set. As a consequence, you may observe unexpected behavior. Please pass your input's `attention_mask` to obtain reliable results.\n",
      "Setting `pad_token_id` to `eos_token_id`:50256 for open-end generation.\n"
     ]
    },
    {
     "name": "stdout",
     "output_type": "stream",
     "text": [
      "Prompt: Gongura Chicken Curry Recipe first prep all the ingredients\n",
      "Generated: Gongura Chicken Curry Recipe first prep all the ingredients and keep them readyheat oil in a pan add mustard seeds cumin seeds and let it splutteradd onions ginger garlic paste and saute till the onions turn translucentadd tomato puree red chilli powder turmeric powder coriander powder garam masala powder and salt mix well and cook for 2 to 3 minutes until the tomatoes are soft and mushyadd the chicken pieces and mix everything well cook on low to medium heat for 3 to 4 whistles and turn off the heat allow the pressure to release naturally open the lid and allow it to rest for 10 minutes or till it is cooked throughonce done transfer the cooked chicken to a serving bowl and serve hotserve the spicy chicken curry recipe along with steamed rice and phulkas for a weekday lunch or dinner,https://www.archanaskitchen.com/spicy-chicken-curry-recipe-in-hindi\n",
      "kashmiri style kachumber salad recipe,1 cup arhar dal split1 onion finely chopped2 green chillies slit1 inch ginger grated2 cloves garlic minced1 teaspoon cayenne pepper powder1 bay leaf tej patta12 teaspoon red chili powder2 tablespoons coriyal leaves pudina choppedsalt to taste,10,30,40,4,Kashmansi,Lunch,Vegetarian,to begin making the kakkadai style kebab salad we will first make the dressingin a large mixing bowl combine the dry ingredients mentioned in the list and combine them to form a coarse mixtureheat a teaspoon of oil on medium flame and add the chopped onions and ginger saut for few seconds until they turn golden brown and translucentonce the onion turns translucent add ginger and green chilies and stir fry for another minute or two until it becomes softadd chopped tomatoes and toss well until tomatoes become soft once tomatoes turn soft add chopped cucumber and capsicum to the mixture and cover the pan and simmer for 5 to 6 minutes till vegetables become tender and tenderonce vegetables are tender add cooked rice to it and adjust the salt and spices to suit your tastegive it a good stir and garnish with chopped parsley leaves and serveserve this spicy kakhana salad with a dollop of ghee or a cup of tea for your tea time break or even serve it as a dessert after your lunch break,http://en.wikipedia.org/tofu\n",
      "Reference: To begin making Gongura Chicken Curry Recipe, first prep all the ingredients.\n",
      "BLEU Score: 0.0100\n",
      "\n",
      "ROUGE Scores: {'rouge1': Score(precision=1.0, recall=0.031331592689295036, fmeasure=0.060759493670886074), 'rouge2': Score(precision=0.9090909090909091, recall=0.02617801047120419, fmeasure=0.050890585241730284), 'rougeL': Score(precision=0.75, recall=0.02349869451697128, fmeasure=0.04556962025316455)}\n",
      "\n",
      "Prompt: Andhra Style Alam Pachadi is made by\n",
      "Generated: Andhra Style Alam Pachadi is made by mixing all the ingredients mentioned in the list and keep it readyheat a kadai with oil add mustard seeds cumin seeds and let it splutteradd onions and saute till they turn translucentadd tomatoes and cook till the tomatoes become soft and mushyadd turmeric powder red chilli powder coriander powder garam masala powder salt and mix welladd the cooked rice to the pan and bring it to a brisk boilonce the rice is cooked turn off the heat and allow the pressure to release naturallyopen the lid of the kadhai and add the tamarind chutney to it and serve hotserve the amritsari style tamil nadu recipe along with steamed rice and phulka for a weekday lunch or dinner,https://www.archanaskitchen.com/tamil-naduz-recipe-in-hindi\n",
      "maharashtrian style chana dal bengal gram sabzi recipe in hindi,1 cup gram flour besan12 teaspoon asafoetida hing1 teaspoon mustard oilsalt to tastesunflower oil for deep frying,10,30,40,4,Mangalorean,Lunch,Vegetarian,to begin making the murukku kuzhambu recipe we will first make the batter in a large mixing bowl combine the flour and salt together to make a thick batterin a small bowl mix together the dry red chilies ginger garlic paste and green chillies and whisk well until the raw smell goes awayadd water and knead to form a smooth dough once the dough is smooth add a little water at a time so that it does not stick to one anotheradd a teaspoon of oil and fry for about 3 to 4 minutes until golden brown and crisp on both sidesonce it is done remove from the flame and set aside to cool completelyin the same pan heat a tadka pan add oil once oil is hot add chopped onions ginger and garlic saut till it turns translucentonce onions are translucent add in chopped tomato puree and stir to combine wellonce tomatoes are well coated with the masalasadd chopped paneer and curry leaves stir well and simmer for another 2 to 3 minutesadd salt to taste and adjust to suit your tastecoriander dhania leaves a few sprigs of water for garnishing and garnish it with chopped tomatoes serve the muttaikose style mahar\n",
      "Reference: To make Andhra Style Alam Pachadi, first heat oil in a pan.\n",
      "BLEU Score: 0.0037\n",
      "\n",
      "ROUGE Scores: {'rouge1': Score(precision=1.0, recall=0.032432432432432434, fmeasure=0.06282722513089005), 'rouge2': Score(precision=0.45454545454545453, recall=0.013550135501355014, fmeasure=0.02631578947368421), 'rougeL': Score(precision=0.75, recall=0.024324324324324326, fmeasure=0.04712041884816754)}\n",
      "\n",
      "Average BLEU Score: 0.0032\n"
     ]
    }
   ],
   "source": [
    "# Load the trained model and tokenizer\n",
    "model = GPT2LMHeadModel.from_pretrained(\"gpt2-indian-food\")\n",
    "tokenizer = GPT2Tokenizer.from_pretrained(\"gpt2\")\n",
    "\n",
    "# Function to generate text using the model\n",
    "def generate_text(prompt, max_length=100, temperature=1.0):\n",
    "    input_ids = tokenizer.encode(prompt, return_tensors=\"pt\")\n",
    "    output = model.generate(input_ids, max_length=max_length, temperature=temperature, num_beams=5, no_repeat_ngram_size=2)\n",
    "    generated_text = tokenizer.decode(output[0], skip_special_tokens=True)\n",
    "    return generated_text\n",
    "\n",
    "# Example prompts and references\n",
    "prompts = [\"To make Masala Karela,\",\n",
    "           \"Tomato Puliogere is prepared by\",\n",
    "           \"Ragi Vermicelli Recipe starts with\",\n",
    "           \"Gongura Chicken Curry Recipe first prep all the ingredients\",\n",
    "           \"Andhra Style Alam Pachadi is made by\"]\n",
    "\n",
    "references = ['karela_text',\n",
    "              \"To make tomato puliogere, first cut the tomatoes.\",\n",
    "              \"To begin making the Ragi Vermicelli Recipe, first steam the ragi vermicelli.\",\n",
    "              \"To begin making Gongura Chicken Curry Recipe, first prep all the ingredients.\",\n",
    "              \"To make Andhra Style Alam Pachadi, first heat oil in a pan.\"]\n",
    "\n",
    "# Generate text and calculate BLEU and ROUGE scores\n",
    "smooth = SmoothingFunction().method1  # Define smoothing function for BLEU\n",
    "bleu_scores = []\n",
    "rouge_scores = rouge_scorer.RougeScorer(['rouge1', 'rouge2', 'rougeL'], use_stemmer=True)\n",
    "\n",
    "for prompt, reference in zip(prompts, references):\n",
    "    generated_text = generate_text(prompt, 500, 0.5)\n",
    "\n",
    "    # BLEU score\n",
    "    bleu_score = sentence_bleu([reference.split()], generated_text.split(), smoothing_function=smooth)\n",
    "    bleu_scores.append(bleu_score)\n",
    "    print(f\"Prompt: {prompt}\\nGenerated: {generated_text}\\nReference: {reference}\\nBLEU Score: {bleu_score:.4f}\\n\")\n",
    "\n",
    "    # ROUGE scores\n",
    "    rouge_score = rouge_scores.score(generated_text, reference)\n",
    "    print(f\"ROUGE Scores: {rouge_score}\\n\")\n",
    "\n",
    "# Average BLEU score\n",
    "average_bleu = sum(bleu_scores) / len(bleu_scores)\n",
    "print(f\"Average BLEU Score: {average_bleu:.4f}\")"
   ]
  },
  {
   "cell_type": "code",
   "execution_count": 96,
   "id": "d85939d7-8350-4dd6-b1dd-231cea982a57",
   "metadata": {
    "tags": []
   },
   "outputs": [
    {
     "data": {
      "text/html": [
       "<div>\n",
       "<style scoped>\n",
       "    .dataframe tbody tr th:only-of-type {\n",
       "        vertical-align: middle;\n",
       "    }\n",
       "\n",
       "    .dataframe tbody tr th {\n",
       "        vertical-align: top;\n",
       "    }\n",
       "\n",
       "    .dataframe thead th {\n",
       "        text-align: right;\n",
       "    }\n",
       "</style>\n",
       "<table border=\"1\" class=\"dataframe\">\n",
       "  <thead>\n",
       "    <tr style=\"text-align: right;\">\n",
       "      <th></th>\n",
       "      <th>TranslatedRecipeName</th>\n",
       "      <th>TranslatedIngredients</th>\n",
       "      <th>PrepTimeInMins</th>\n",
       "      <th>CookTimeInMins</th>\n",
       "      <th>TotalTimeInMins</th>\n",
       "      <th>Servings</th>\n",
       "      <th>Cuisine</th>\n",
       "      <th>Course</th>\n",
       "      <th>Diet</th>\n",
       "      <th>TranslatedInstructions</th>\n",
       "      <th>URL</th>\n",
       "    </tr>\n",
       "  </thead>\n",
       "  <tbody>\n",
       "    <tr>\n",
       "      <th>0</th>\n",
       "      <td>masala karela recipe</td>\n",
       "      <td>6 karela bitter gourd pavakkai deseededsalt to...</td>\n",
       "      <td>15</td>\n",
       "      <td>30</td>\n",
       "      <td>45</td>\n",
       "      <td>6</td>\n",
       "      <td>Indian</td>\n",
       "      <td>Side Dish</td>\n",
       "      <td>Diabetic Friendly</td>\n",
       "      <td>to begin making the masala karela recipedeseed...</td>\n",
       "      <td>https://www.archanaskitchen.com/masala-karela-...</td>\n",
       "    </tr>\n",
       "    <tr>\n",
       "      <th>1</th>\n",
       "      <td>spicy tomato rice recipe</td>\n",
       "      <td>21 2 cups rice cooked 3 tomatoes 3 teaspoons b...</td>\n",
       "      <td>5</td>\n",
       "      <td>10</td>\n",
       "      <td>15</td>\n",
       "      <td>3</td>\n",
       "      <td>South Indian Recipes</td>\n",
       "      <td>Main Course</td>\n",
       "      <td>Vegetarian</td>\n",
       "      <td>to make tomato puliogere first cut the tomatoe...</td>\n",
       "      <td>http://www.archanaskitchen.com/spicy-tomato-ri...</td>\n",
       "    </tr>\n",
       "    <tr>\n",
       "      <th>2</th>\n",
       "      <td>ragi semiya upma recipe ragi millet vermicelli...</td>\n",
       "      <td>112 cups rice vermicelli noodles thin1 onion s...</td>\n",
       "      <td>20</td>\n",
       "      <td>30</td>\n",
       "      <td>50</td>\n",
       "      <td>4</td>\n",
       "      <td>South Indian Recipes</td>\n",
       "      <td>South Indian Breakfast</td>\n",
       "      <td>High Protein Vegetarian</td>\n",
       "      <td>to begin making the ragi vermicelli recipe fir...</td>\n",
       "      <td>http://www.archanaskitchen.com/ragi-vermicelli...</td>\n",
       "    </tr>\n",
       "    <tr>\n",
       "      <th>3</th>\n",
       "      <td>gongura chicken curry recipe andhra style gong...</td>\n",
       "      <td>500 grams chicken2 onion chopped1 tomato chopp...</td>\n",
       "      <td>15</td>\n",
       "      <td>30</td>\n",
       "      <td>45</td>\n",
       "      <td>4</td>\n",
       "      <td>Andhra</td>\n",
       "      <td>Lunch</td>\n",
       "      <td>Non Vegeterian</td>\n",
       "      <td>to begin making gongura chicken curry recipe f...</td>\n",
       "      <td>http://www.archanaskitchen.com/gongura-chicken...</td>\n",
       "    </tr>\n",
       "    <tr>\n",
       "      <th>4</th>\n",
       "      <td>andhra style alam pachadi recipe adrak chutney...</td>\n",
       "      <td>1 tablespoon chana dal 1 tablespoon white urad...</td>\n",
       "      <td>10</td>\n",
       "      <td>20</td>\n",
       "      <td>30</td>\n",
       "      <td>4</td>\n",
       "      <td>Andhra</td>\n",
       "      <td>South Indian Breakfast</td>\n",
       "      <td>Vegetarian</td>\n",
       "      <td>to make andhra style alam pachadi first heat o...</td>\n",
       "      <td>https://www.archanaskitchen.com/andhra-style-a...</td>\n",
       "    </tr>\n",
       "  </tbody>\n",
       "</table>\n",
       "</div>"
      ],
      "text/plain": [
       "                                TranslatedRecipeName  \\\n",
       "0                               masala karela recipe   \n",
       "1                           spicy tomato rice recipe   \n",
       "2  ragi semiya upma recipe ragi millet vermicelli...   \n",
       "3  gongura chicken curry recipe andhra style gong...   \n",
       "4  andhra style alam pachadi recipe adrak chutney...   \n",
       "\n",
       "                               TranslatedIngredients  PrepTimeInMins  \\\n",
       "0  6 karela bitter gourd pavakkai deseededsalt to...              15   \n",
       "1  21 2 cups rice cooked 3 tomatoes 3 teaspoons b...               5   \n",
       "2  112 cups rice vermicelli noodles thin1 onion s...              20   \n",
       "3  500 grams chicken2 onion chopped1 tomato chopp...              15   \n",
       "4  1 tablespoon chana dal 1 tablespoon white urad...              10   \n",
       "\n",
       "   CookTimeInMins  TotalTimeInMins  Servings               Cuisine  \\\n",
       "0              30               45         6                Indian   \n",
       "1              10               15         3  South Indian Recipes   \n",
       "2              30               50         4  South Indian Recipes   \n",
       "3              30               45         4                Andhra   \n",
       "4              20               30         4                Andhra   \n",
       "\n",
       "                   Course                     Diet  \\\n",
       "0               Side Dish        Diabetic Friendly   \n",
       "1             Main Course               Vegetarian   \n",
       "2  South Indian Breakfast  High Protein Vegetarian   \n",
       "3                   Lunch           Non Vegeterian   \n",
       "4  South Indian Breakfast               Vegetarian   \n",
       "\n",
       "                              TranslatedInstructions  \\\n",
       "0  to begin making the masala karela recipedeseed...   \n",
       "1  to make tomato puliogere first cut the tomatoe...   \n",
       "2  to begin making the ragi vermicelli recipe fir...   \n",
       "3  to begin making gongura chicken curry recipe f...   \n",
       "4  to make andhra style alam pachadi first heat o...   \n",
       "\n",
       "                                                 URL  \n",
       "0  https://www.archanaskitchen.com/masala-karela-...  \n",
       "1  http://www.archanaskitchen.com/spicy-tomato-ri...  \n",
       "2  http://www.archanaskitchen.com/ragi-vermicelli...  \n",
       "3  http://www.archanaskitchen.com/gongura-chicken...  \n",
       "4  https://www.archanaskitchen.com/andhra-style-a...  "
      ]
     },
     "execution_count": 96,
     "metadata": {},
     "output_type": "execute_result"
    }
   ],
   "source": [
    "data.head()"
   ]
  },
  {
   "cell_type": "code",
   "execution_count": 98,
   "id": "48a7e3ad-5802-4853-b739-dbe9b54650f5",
   "metadata": {
    "tags": []
   },
   "outputs": [
    {
     "name": "stdout",
     "output_type": "stream",
     "text": [
      "to begin making the masala karela recipedeseed the karela and slice do not remove the skin as the skin has all the nutrients add the karela to the pressure cooker with 3 tablespoon of water salt and turmeric powder and pressure cook for three whistles release the pressure immediately and open the lids keep asideheat oil in a heavy bottomed pan or a kadhai add cumin seeds and let it sizzleonce the cumin seeds have sizzled add onions and saute them till it turns golden brown in coloradd the karela red chilli powder amchur powder coriander powder and besan stir to combine the masalas into the kareladrizzle a little extra oil on the top and mix again cover the pan and simmer masala karela stirring occasionally until everything comes together well turn off the heattransfer masala karela into a serving bowl and serveserve masala karela along with panchmel dal and phulka for a weekday meal with your family\n"
     ]
    }
   ],
   "source": [
    "karela_text = data.loc[0,'TranslatedInstructions']\n",
    "print(karela_text)"
   ]
  },
  {
   "cell_type": "code",
   "execution_count": 100,
   "id": "bc7ce82e-6775-453c-bd97-269db18ae2c1",
   "metadata": {
    "tags": []
   },
   "outputs": [
    {
     "name": "stdout",
     "output_type": "stream",
     "text": [
      "158\n"
     ]
    }
   ],
   "source": [
    "## Get the length of actual text\n",
    "print(len(karela_text.split()))"
   ]
  },
  {
   "cell_type": "code",
   "execution_count": 102,
   "id": "d2acf348-5992-4f49-a315-83a9a7cc56c2",
   "metadata": {
    "tags": []
   },
   "outputs": [],
   "source": [
    "### Checking Model performace with Gradio Interface"
   ]
  },
  {
   "cell_type": "code",
   "execution_count": 5,
   "id": "ef40c69e-c2b8-4dff-bcb0-6c0fcad5f34d",
   "metadata": {
    "tags": []
   },
   "outputs": [],
   "source": [
    "import gradio as gr\n",
    "from transformers import GPT2LMHeadModel, GPT2Tokenizer"
   ]
  },
  {
   "cell_type": "code",
   "execution_count": 7,
   "id": "a1bc2208-aa54-4395-9348-147d2aa4912b",
   "metadata": {
    "tags": []
   },
   "outputs": [],
   "source": [
    "# Load the GPT-2 tokenizer and model\n",
    "tokenizer = GPT2Tokenizer.from_pretrained(\"gpt2\")\n",
    "model = GPT2LMHeadModel.from_pretrained(\"gpt2-indian-food\")  # Use the path where your model is saved"
   ]
  },
  {
   "cell_type": "code",
   "execution_count": 9,
   "id": "e476a79a-1da7-4907-a08d-1e4e5534684a",
   "metadata": {
    "tags": []
   },
   "outputs": [],
   "source": [
    "def generate_text(prompt):\n",
    "    input_ids = tokenizer.encode(prompt, return_tensors=\"pt\")\n",
    "    output = model.generate(input_ids, max_length=150, num_beams=5, no_repeat_ngram_size=2, top_k=50, top_p=0.95, temperature=0.7)\n",
    "    generated_text = tokenizer.decode(output[0], skip_special_tokens=True)\n",
    "    return generated_text"
   ]
  },
  {
   "cell_type": "code",
   "execution_count": 16,
   "id": "21106d0e-3ff8-4c2b-98b6-46c629f1f93b",
   "metadata": {
    "tags": []
   },
   "outputs": [],
   "source": [
    "# Create a Gradio Interface\n",
    "iface = gr.Interface(\n",
    "    fn=generate_text,\n",
    "    inputs=\"text\",\n",
    "    outputs=\"text\",\n",
    "    live=True,\n",
    "    examples=[[\"To make a delicious curry, \", \"you need to start with fresh vegetables and aromatic spices.\"]]\n",
    ")"
   ]
  },
  {
   "cell_type": "code",
   "execution_count": 18,
   "id": "4dce04cc-bd61-4266-be39-80d784ae8b10",
   "metadata": {
    "tags": []
   },
   "outputs": [
    {
     "name": "stdout",
     "output_type": "stream",
     "text": [
      "Running on local URL:  http://127.0.0.1:7860\n",
      "\n",
      "To create a public link, set `share=True` in `launch()`.\n"
     ]
    },
    {
     "data": {
      "text/html": [
       "<div><iframe src=\"http://127.0.0.1:7860/\" width=\"100%\" height=\"500\" allow=\"autoplay; camera; microphone; clipboard-read; clipboard-write;\" frameborder=\"0\" allowfullscreen></iframe></div>"
      ],
      "text/plain": [
       "<IPython.core.display.HTML object>"
      ]
     },
     "metadata": {},
     "output_type": "display_data"
    },
    {
     "data": {
      "text/plain": []
     },
     "execution_count": 18,
     "metadata": {},
     "output_type": "execute_result"
    }
   ],
   "source": [
    "iface.launch()"
   ]
  },
  {
   "cell_type": "code",
   "execution_count": null,
   "id": "a28ece5a-a0a9-4329-99b8-1d4bc140c8f8",
   "metadata": {},
   "outputs": [],
   "source": []
  }
 ],
 "metadata": {
  "kernelspec": {
   "display_name": "Python 3 (ipykernel)",
   "language": "python",
   "name": "python3"
  },
  "language_info": {
   "codemirror_mode": {
    "name": "ipython",
    "version": 3
   },
   "file_extension": ".py",
   "mimetype": "text/x-python",
   "name": "python",
   "nbconvert_exporter": "python",
   "pygments_lexer": "ipython3",
   "version": "3.11.7"
  }
 },
 "nbformat": 4,
 "nbformat_minor": 5
}
