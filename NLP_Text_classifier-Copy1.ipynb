{
 "cells": [
  {
   "cell_type": "code",
   "execution_count": 2,
   "id": "7c5c65fc-743e-4156-9cbd-696868529168",
   "metadata": {
    "tags": []
   },
   "outputs": [
    {
     "name": "stdout",
     "output_type": "stream",
     "text": [
      "Requirement already satisfied: huggingface_hub in /opt/anaconda3/lib/python3.11/site-packages (0.23.4)\n",
      "Requirement already satisfied: filelock in /opt/anaconda3/lib/python3.11/site-packages (from huggingface_hub) (3.13.1)\n",
      "Requirement already satisfied: fsspec>=2023.5.0 in /opt/anaconda3/lib/python3.11/site-packages (from huggingface_hub) (2023.10.0)\n",
      "Requirement already satisfied: packaging>=20.9 in /opt/anaconda3/lib/python3.11/site-packages (from huggingface_hub) (23.1)\n",
      "Requirement already satisfied: pyyaml>=5.1 in /opt/anaconda3/lib/python3.11/site-packages (from huggingface_hub) (6.0.1)\n",
      "Requirement already satisfied: requests in /opt/anaconda3/lib/python3.11/site-packages (from huggingface_hub) (2.32.3)\n",
      "Requirement already satisfied: tqdm>=4.42.1 in /opt/anaconda3/lib/python3.11/site-packages (from huggingface_hub) (4.66.4)\n",
      "Requirement already satisfied: typing-extensions>=3.7.4.3 in /opt/anaconda3/lib/python3.11/site-packages (from huggingface_hub) (4.9.0)\n",
      "Requirement already satisfied: charset-normalizer<4,>=2 in /opt/anaconda3/lib/python3.11/site-packages (from requests->huggingface_hub) (2.0.4)\n",
      "Requirement already satisfied: idna<4,>=2.5 in /opt/anaconda3/lib/python3.11/site-packages (from requests->huggingface_hub) (3.4)\n",
      "Requirement already satisfied: urllib3<3,>=1.21.1 in /opt/anaconda3/lib/python3.11/site-packages (from requests->huggingface_hub) (2.0.7)\n",
      "Requirement already satisfied: certifi>=2017.4.17 in /opt/anaconda3/lib/python3.11/site-packages (from requests->huggingface_hub) (2024.2.2)\n",
      "Note: you may need to restart the kernel to use updated packages.\n"
     ]
    }
   ],
   "source": [
    "pip install huggingface_hub"
   ]
  },
  {
   "cell_type": "code",
   "execution_count": 4,
   "id": "74a654b0-ea06-4954-9579-cd36f453cfd1",
   "metadata": {
    "tags": []
   },
   "outputs": [
    {
     "name": "stdout",
     "output_type": "stream",
     "text": [
      "ModelInfo(id='core42/jais-13b-chat', author=None, sha=None, created_at=datetime.datetime(2023, 8, 23, 6, 43, 5, tzinfo=datetime.timezone.utc), last_modified=None, private=False, gated=None, disabled=None, downloads=18821, likes=133, library_name='transformers', tags=['transformers', 'pytorch', 'jais', 'text-generation', 'Arabic', 'English', 'LLM', 'Decoder', 'causal-lm', 'conversational', 'custom_code', 'ar', 'en', 'arxiv:2308.16149', 'license:apache-2.0', 'autotrain_compatible', 'endpoints_compatible', 'region:us'], pipeline_tag='text-generation', mask_token=None, card_data=None, widget_data=None, model_index=None, config=None, transformers_info=None, siblings=None, spaces=None, safetensors=None)\n",
      "<class 'list'>\n"
     ]
    }
   ],
   "source": [
    "from huggingface_hub import HfApi\n",
    "api = HfApi()\n",
    "\n",
    "task_name = 'text-generation'\n",
    "models = api.list_models(\n",
    "    task=task_name,  ## Task Name\n",
    "    language='English',\n",
    "    sort=\"downloads\",  ## Number of Downloads\n",
    "    direction=-1, ## Decending Order\n",
    "    limit=5  ## Number of Outputs\n",
    ")\n",
    "modelList = list(models)\n",
    "print(modelList[0])\n",
    "print(type(modelList))"
   ]
  },
  {
   "cell_type": "code",
   "execution_count": 6,
   "id": "eb5699c1-0037-43ad-846c-b55a8f317059",
   "metadata": {
    "tags": []
   },
   "outputs": [
    {
     "name": "stdout",
     "output_type": "stream",
     "text": [
      "Name:  core42/jais-13b-chat\n",
      "Downloads: 18821\n",
      "Author: None\n",
      "Created Date: 2023-08-23 06:43:05+00:00\n",
      "\n",
      "\n",
      "\n",
      "Name:  core42/jais-30b-chat-v1\n",
      "Downloads: 7358\n",
      "Author: None\n",
      "Created Date: 2023-11-06 09:54:24+00:00\n",
      "\n",
      "\n",
      "\n",
      "Name:  core42/jais-13b\n",
      "Downloads: 6424\n",
      "Author: None\n",
      "Created Date: 2023-08-17 07:50:29+00:00\n",
      "\n",
      "\n",
      "\n",
      "Name:  core42/jais-30b-v3\n",
      "Downloads: 2559\n",
      "Author: None\n",
      "Created Date: 2024-02-14 07:46:36+00:00\n",
      "\n",
      "\n",
      "\n",
      "Name:  core42/jais-30b-v1\n",
      "Downloads: 1622\n",
      "Author: None\n",
      "Created Date: 2023-10-27 12:13:37+00:00\n",
      "\n",
      "\n",
      "\n"
     ]
    }
   ],
   "source": [
    "for i in range(5):\n",
    "  print(\"Name: \", modelList[i].id)\n",
    "  print(\"Downloads:\", modelList[i].downloads)\n",
    "  print(\"Author:\", modelList[i].author)\n",
    "  print(\"Created Date:\", modelList[i].created_at)\n",
    "  print(\"\\n\\n\")"
   ]
  },
  {
   "cell_type": "code",
   "execution_count": 8,
   "id": "ddf92ece-678e-4772-bd2e-bbe24cf5d149",
   "metadata": {
    "tags": []
   },
   "outputs": [
    {
     "data": {
      "application/vnd.jupyter.widget-view+json": {
       "model_id": "dd33bd7817bd44aaad8676aec3ec8ed2",
       "version_major": 2,
       "version_minor": 0
      },
      "text/plain": [
       "config.json:   0%|          | 0.00/629 [00:00<?, ?B/s]"
      ]
     },
     "metadata": {},
     "output_type": "display_data"
    },
    {
     "data": {
      "application/vnd.jupyter.widget-view+json": {
       "model_id": "51691dd37bb34c9aa7bef298ca2f3969",
       "version_major": 2,
       "version_minor": 0
      },
      "text/plain": [
       "model.safetensors:   0%|          | 0.00/268M [00:00<?, ?B/s]"
      ]
     },
     "metadata": {},
     "output_type": "display_data"
    },
    {
     "data": {
      "application/vnd.jupyter.widget-view+json": {
       "model_id": "4548c3f8eac9483a8e008fe81741cd9f",
       "version_major": 2,
       "version_minor": 0
      },
      "text/plain": [
       "tokenizer_config.json:   0%|          | 0.00/48.0 [00:00<?, ?B/s]"
      ]
     },
     "metadata": {},
     "output_type": "display_data"
    },
    {
     "data": {
      "application/vnd.jupyter.widget-view+json": {
       "model_id": "8c2edb3da1d340648b452f04577b3375",
       "version_major": 2,
       "version_minor": 0
      },
      "text/plain": [
       "vocab.txt:   0%|          | 0.00/232k [00:00<?, ?B/s]"
      ]
     },
     "metadata": {},
     "output_type": "display_data"
    },
    {
     "name": "stdout",
     "output_type": "stream",
     "text": [
      "Sentiment : POSITIVE\n",
      "Sentiment Score : 99.9 %\n"
     ]
    }
   ],
   "source": [
    "from transformers import pipeline\n",
    "my_pipeline = pipeline(task=\"text-classification\",\n",
    "                      model=\"distilbert-base-uncased-finetuned-sst-2-english\")\n",
    "input = \"\"\"Used this for a DCL cruise and it was awesome. I like the solid flat bottom which\n",
    "helped give structure and stability to its shape. Much better than the other companies with\n",
    "the soft saggy bottoms that allow heavy items shift to one side or pull down the middle.\n",
    "To use or not use the wheels was an added bonus. Popped the wheels on pre cruise, filled it\n",
    "to the brim including the approved wine bottles and was able to move around the ship with ease as the\n",
    "wheels are luggage style. No shoulder pain as the weight was now on the floor not hanging off my shoulder.\n",
    "Post cruise filled it with all those items that didn’t fit in the suitcase and was able to move through\n",
    "the airport with ease. Before boarding the flight popped off the wheels, dropped them inside and it\n",
    "fit under the seat without any problems.\"\"\"\n",
    "result = my_pipeline(input)\n",
    "print(\"Sentiment :\", result[0]['label'])\n",
    "print(\"Sentiment Score :\", round(result[0]['score'],4)*100, '%')"
   ]
  },
  {
   "cell_type": "code",
   "execution_count": 11,
   "id": "8756d7a0-0749-4b72-bba2-5bf8958df283",
   "metadata": {
    "tags": []
   },
   "outputs": [
    {
     "name": "stdout",
     "output_type": "stream",
     "text": [
      "Sentiment : NEGATIVE\n",
      "Sentiment Score : 99.95 %\n"
     ]
    }
   ],
   "source": [
    "from transformers import pipeline\n",
    "my_pipeline = pipeline(task=\"text-classification\",\n",
    "                      model=\"distilbert-base-uncased-finetuned-sst-2-english\")\n",
    "input = \"\"\"I can't believe the sheer audacity of it all. How dare they treat me with such disrespect? After all the effort and dedication I've put into this project, they have the nerve to undermine my work and belittle my contributions. It's infuriating to see people with half my experience and commitment getting the recognition and opportunities I deserve.\n",
    "Their condescending attitudes and blatant favoritism are absolutely unacceptable. I've had enough of their dismissive comments and underhanded tactics. It's clear they have no regard for fairness or merit. I'm sick and tired of being taken for granted and having my hard work ignored.\n",
    "This situation is beyond frustrating. It makes my blood boil to think that despite my loyalty and perseverance, I’m being treated like I’m disposable. I refuse to stay silent any longer. It's time to call out this injustice and demand the respect and acknowledgment that I have rightfully earned.\"\"\"\n",
    "result = my_pipeline(input)\n",
    "print(\"Sentiment :\", result[0]['label'])\n",
    "print(\"Sentiment Score :\", round(result[0]['score'],4)*100, '%')"
   ]
  },
  {
   "cell_type": "code",
   "execution_count": 17,
   "id": "40c0f880-0276-435e-be87-1ff9bd3f858f",
   "metadata": {
    "tags": []
   },
   "outputs": [
    {
     "data": {
      "application/vnd.jupyter.widget-view+json": {
       "model_id": "42972e4083ab4a59b579132178255d46",
       "version_major": 2,
       "version_minor": 0
      },
      "text/plain": [
       "config.json:   0%|          | 0.00/1.00k [00:00<?, ?B/s]"
      ]
     },
     "metadata": {},
     "output_type": "display_data"
    },
    {
     "data": {
      "application/vnd.jupyter.widget-view+json": {
       "model_id": "2bae373c1d7c4c009bb340ba20d188d5",
       "version_major": 2,
       "version_minor": 0
      },
      "text/plain": [
       "pytorch_model.bin:   0%|          | 0.00/329M [00:00<?, ?B/s]"
      ]
     },
     "metadata": {},
     "output_type": "display_data"
    },
    {
     "data": {
      "application/vnd.jupyter.widget-view+json": {
       "model_id": "16061a9c3ee747fa84beff2bcbdd93d4",
       "version_major": 2,
       "version_minor": 0
      },
      "text/plain": [
       "tokenizer_config.json:   0%|          | 0.00/294 [00:00<?, ?B/s]"
      ]
     },
     "metadata": {},
     "output_type": "display_data"
    },
    {
     "data": {
      "application/vnd.jupyter.widget-view+json": {
       "model_id": "a1d1c1a6887a4401b91adcb9375ff595",
       "version_major": 2,
       "version_minor": 0
      },
      "text/plain": [
       "vocab.json:   0%|          | 0.00/798k [00:00<?, ?B/s]"
      ]
     },
     "metadata": {},
     "output_type": "display_data"
    },
    {
     "data": {
      "application/vnd.jupyter.widget-view+json": {
       "model_id": "f7cb9c81cbd14be09bf7c8ec5d1845c5",
       "version_major": 2,
       "version_minor": 0
      },
      "text/plain": [
       "merges.txt:   0%|          | 0.00/456k [00:00<?, ?B/s]"
      ]
     },
     "metadata": {},
     "output_type": "display_data"
    },
    {
     "data": {
      "application/vnd.jupyter.widget-view+json": {
       "model_id": "1d8a24b33cc344cf841e4a04afe76ca1",
       "version_major": 2,
       "version_minor": 0
      },
      "text/plain": [
       "tokenizer.json:   0%|          | 0.00/1.36M [00:00<?, ?B/s]"
      ]
     },
     "metadata": {},
     "output_type": "display_data"
    },
    {
     "data": {
      "application/vnd.jupyter.widget-view+json": {
       "model_id": "c5d41ca6bfec4288a3cc2b16e03e86d4",
       "version_major": 2,
       "version_minor": 0
      },
      "text/plain": [
       "special_tokens_map.json:   0%|          | 0.00/239 [00:00<?, ?B/s]"
      ]
     },
     "metadata": {},
     "output_type": "display_data"
    },
    {
     "name": "stdout",
     "output_type": "stream",
     "text": [
      "Sentiment : anger\n",
      "Sentiment Score : 96.16 %\n"
     ]
    }
   ],
   "source": [
    "from transformers import pipeline\n",
    "my_pipeline = pipeline(task=\"text-classification\",\n",
    "                      model=\"j-hartmann/emotion-english-distilroberta-base\")\n",
    "input = \"\"\"I can't believe the sheer audacity of it all. How dare they treat me with such disrespect? After all the effort and dedication I've put into this project, they have the nerve to undermine my work and belittle my contributions. It's infuriating to see people with half my experience and commitment getting the recognition and opportunities I deserve.\n",
    "Their condescending attitudes and blatant favoritism are absolutely unacceptable. I've had enough of their dismissive comments and underhanded tactics. It's clear they have no regard for fairness or merit. I'm sick and tired of being taken for granted and having my hard work ignored.\n",
    "This situation is beyond frustrating. It makes my blood boil to think that despite my loyalty and perseverance, I’m being treated like I’m disposable. I refuse to stay silent any longer. It's time to call out this injustice and demand the respect and acknowledgment that I have rightfully earned.\"\"\"\n",
    "result = my_pipeline(input)\n",
    "print(\"Sentiment :\", result[0]['label'])\n",
    "print(\"Sentiment Score :\", round(result[0]['score'],4)*100, '%')\n"
   ]
  },
  {
   "cell_type": "code",
   "execution_count": null,
   "id": "171cc1a0-efaf-4c72-9a60-d9343c6867ca",
   "metadata": {},
   "outputs": [],
   "source": [
    "from transformers import pipeline\n",
    "my_pipeline = pipeline(task=\"text-classification\",\n",
    "                      model=\"j-hartmann/emotion-english-distilroberta-base\")\n",
    "input = \"\"\" \"\"\"\n",
    "result = my_pipeline(input)\n",
    "print(\"Sentiment :\", result[0]['label'])\n",
    "print(\"Sentiment Score :\", round(result[0]['score'],4)*100, '%')"
   ]
  },
  {
   "cell_type": "code",
   "execution_count": 19,
   "id": "a4d22d74-30ce-406c-9dbe-c10738ba292b",
   "metadata": {
    "tags": []
   },
   "outputs": [
    {
     "name": "stdout",
     "output_type": "stream",
     "text": [
      "Sentiment : fear\n",
      "Sentiment Score : 98.76 %\n"
     ]
    }
   ],
   "source": [
    "from transformers import pipeline\n",
    "my_pipeline = pipeline(task=\"text-classification\",\n",
    "                      model=\"j-hartmann/emotion-english-distilroberta-base\")\n",
    "input = \"\"\"I can hardly breathe, my heart is pounding so hard that I feel it might burst out of my chest. Every creak of the floorboards, every rustle of the wind outside, sends a shiver down my spine. I'm alone in this dark, empty house, and the silence is deafening. I can't shake the feeling that someone, or something, is watching me from the shadows.\n",
    "\n",
    "The shadows themselves seem to move, shifting ominously as if alive. My mind races with every possible scenario, each more terrifying than the last. What if there's an intruder? What if they mean to harm me? The thought grips me, paralyzing my every muscle. I want to run, to hide, but my legs refuse to obey.\n",
    "I can hear my own breathing, shallow and rapid, and it's the only sound in the oppressive silence. The darkness is suffocating, closing in around me. I try to tell myself that it's just my imagination, but the fear is too real, too overwhelming. Every instinct screams at me to escape, but I don't know where to go or what to do.\n",
    "I'm trapped in this nightmare, and I can only hope that it will end soon. The fear is all-consuming, and I don't know how much longer I can stand it. I'm afraid of what might happen next, of what unseen horrors could be lurking just out of sight. All I can do is wait and hope for the light to return, to chase away the darkness and the terror it brings.\"\"\"\n",
    "result = my_pipeline(input)\n",
    "print(\"Sentiment :\", result[0]['label'])\n",
    "print(\"Sentiment Score :\", round(result[0]['score'],4)*100, '%')"
   ]
  },
  {
   "cell_type": "code",
   "execution_count": null,
   "id": "cc7c3ef7-c1ae-4279-a323-bee571014301",
   "metadata": {},
   "outputs": [],
   "source": []
  }
 ],
 "metadata": {
  "kernelspec": {
   "display_name": "Python 3 (ipykernel)",
   "language": "python",
   "name": "python3"
  },
  "language_info": {
   "codemirror_mode": {
    "name": "ipython",
    "version": 3
   },
   "file_extension": ".py",
   "mimetype": "text/x-python",
   "name": "python",
   "nbconvert_exporter": "python",
   "pygments_lexer": "ipython3",
   "version": "3.11.7"
  }
 },
 "nbformat": 4,
 "nbformat_minor": 5
}
